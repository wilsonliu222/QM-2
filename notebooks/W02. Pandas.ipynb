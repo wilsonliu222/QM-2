{
  "cells": [
    {
      "cell_type": "markdown",
      "metadata": {
        "id": "view-in-github",
        "colab_type": "text"
      },
      "source": [
        "<a href=\"https://colab.research.google.com/github/wilsonliu222/QM-2/blob/main/notebooks/W02.%20Pandas.ipynb\" target=\"_parent\"><img src=\"https://colab.research.google.com/assets/colab-badge.svg\" alt=\"Open In Colab\"/></a>"
      ]
    },
    {
      "cell_type": "markdown",
      "metadata": {
        "id": "rh0t7NbNOgk5"
      },
      "source": [
        "# Intro to Pandas\n",
        "\n",
        "## *Workshop 2*  [![Open In Colab](https://github.com/oballinger/QM2/blob/main/colab-badge.png?raw=1)](https://colab.research.google.com/github/oballinger/QM2/blob/main/notebooks/W02.%20Pandas.ipynb)\n",
        "\n",
        "\n",
        "In this workshop, our aim is to get used to working with more complex data that we've imported from external files. We'll start to graph it, and to slice and dice it, to select the bits we're interested in.\n",
        "\n",
        "We will work with *pandas* to manipulate the data, and to derive measures and graphs that tell us a bit more than what the source data files tell us.\n",
        "\n",
        "### Aims\n",
        "\n",
        "- Learn to import data to python using pandas\n",
        "- Learn how access specific rows, columns and cells\n",
        "- Plot the data\n",
        "- Tidy up graphs to include axes"
      ]
    },
    {
      "cell_type": "markdown",
      "metadata": {
        "id": "5wnaRCMaOgk6"
      },
      "source": [
        "## Introduction\n",
        "\n",
        "We are going to work with some UK income data. The income data is packaged as a .csv file. The Pandas package knows how to handle this and put the data in a DataFrame, as we've seen. Let's examine the data and start to see what we can say about it. First of all, we have to find data - I'm interested in looking in data with a wide spread, so I looked for data on income in the UK.\n",
        "\n",
        "This data is collected by the Office for National Statistics(ONS) : http://www.ons.gov.uk/ons/datasets-and-tables/index.html?pageSize=50&sortBy=none&sortDirection=none&newquery=income+percentile - but the exact data I want to see, income by percentile, is tricky to find.\n",
        "\n",
        "I ended up using data from 2011, generated from a study called the Family Resources Survey and collated and tweaked by an independent research unit called the Institute of Fiscal Studies (IFS). The \"tweaking\" they do tends to be around the size of the family unit, and other factors which create economies of scale - hence they \"equivalise\" it. The IFS is quoted in UK Government documents, so we can have some trust in their impartiality, or at least accuracy - of course, if we were publishing research about this, that's not really good enough and we'd want to reproduce, or at least understand and critique, their methodology rather than just trusting it!\n",
        "\n",
        "e.g.:\n",
        "\n",
        "http://www.ifs.org.uk/wheredoyoufitin/about.php\n",
        "\n",
        "https://en.wikipedia.org/wiki/Equivalisation"
      ]
    },
    {
      "cell_type": "markdown",
      "metadata": {
        "id": "MsF6sfaWOgk7"
      },
      "source": [
        "## Downloading the Data\n",
        "\n",
        "Let's grab our income data from our course website and save it into our data folder.  If you've not already created a data folder then do so using the following command.  Don't worry if it generates an error, that means you've already got a data folder.\n"
      ]
    },
    {
      "cell_type": "code",
      "execution_count": 4,
      "metadata": {
        "id": "cWXVYQmlOgk7"
      },
      "outputs": [],
      "source": [
        "!mkdir data"
      ]
    },
    {
      "cell_type": "code",
      "execution_count": 5,
      "metadata": {
        "id": "cSISKOHUOglB",
        "colab": {
          "base_uri": "https://localhost:8080/"
        },
        "outputId": "0bb1e0e6-2572-41ea-e381-bcec5b4af9c7"
      },
      "outputs": [
        {
          "output_type": "stream",
          "name": "stdout",
          "text": [
            "  % Total    % Received % Xferd  Average Speed   Time    Time     Time  Current\n",
            "                                 Dload  Upload   Total   Spent    Left  Speed\n",
            "100 15154  100 15154    0     0  14739      0  0:00:01  0:00:01 --:--:-- 14741\n"
          ]
        }
      ],
      "source": [
        "!mkdir data/wk2\n",
        "!curl https://s3.eu-west-2.amazonaws.com/qm2/wk2/incomes.csv -o ./data/wk2/incomes.csv"
      ]
    },
    {
      "cell_type": "markdown",
      "metadata": {
        "id": "-bsU0xgcOglF"
      },
      "source": [
        "      "
      ]
    },
    {
      "cell_type": "code",
      "execution_count": 6,
      "metadata": {
        "id": "5cBMkYbaOglG"
      },
      "outputs": [],
      "source": [
        "import pandas\n",
        "import pylab\n",
        "import matplotlib.pyplot as plt\n",
        "# make the plots a little wider by default\n",
        "%matplotlib inline\n",
        "plt.style.use('ggplot')\n",
        "\n",
        "pylab.rcParams['figure.figsize'] = (10., 8.)"
      ]
    },
    {
      "cell_type": "code",
      "execution_count": 7,
      "metadata": {
        "id": "GD2qMhAxOglK",
        "colab": {
          "base_uri": "https://localhost:8080/",
          "height": 589
        },
        "outputId": "d59b242a-98e8-4aec-85ae-0d7ecca8e635"
      },
      "outputs": [
        {
          "output_type": "execute_result",
          "data": {
            "text/plain": [
              "                  Net equivalised household income in 2010-11, week  \\\n",
              "Percentile Point                                                      \n",
              "1                                                             33.50   \n",
              "2                                                             98.60   \n",
              "3                                                            128.56   \n",
              "4                                                            151.05   \n",
              "5                                                            166.32   \n",
              "...                                                             ...   \n",
              "95                                                          1075.73   \n",
              "96                                                          1174.48   \n",
              "97                                                          1302.74   \n",
              "98                                                          1523.31   \n",
              "99                                                          2090.35   \n",
              "\n",
              "                 Childless couple, annual income  \\\n",
              "Percentile Point                                   \n",
              "1                                       1,746.92   \n",
              "2                                       5,141.01   \n",
              "3                                       6,703.11   \n",
              "4                                       7,875.75   \n",
              "5                                       8,671.91   \n",
              "...                                          ...   \n",
              "95                                     56,088.56   \n",
              "96                                     61,237.18   \n",
              "97                                     67,925.07   \n",
              "98                                     79,425.23   \n",
              "99                                    108,990.74   \n",
              "\n",
              "                 Couple, two children under 14  \\\n",
              "Percentile Point                                 \n",
              "1                                     2,445.69   \n",
              "2                                     7,197.41   \n",
              "3                                     9,384.36   \n",
              "4                                    11,026.05   \n",
              "5                                    12,140.68   \n",
              "...                                        ...   \n",
              "95                                   78,523.99   \n",
              "96                                   85,732.05   \n",
              "97                                   95,095.10   \n",
              "98                                  111,195.32   \n",
              "99                                  152,587.04   \n",
              "\n",
              "                 Couple, three children under 14  \\\n",
              "Percentile Point                                   \n",
              "1                                       2,795.08   \n",
              "2                                       8,225.61   \n",
              "3                                      10,724.98   \n",
              "4                                      12,601.20   \n",
              "5                                      13,875.06   \n",
              "...                                          ...   \n",
              "95                                     89,741.70   \n",
              "96                                     97,979.49   \n",
              "97                                    108,680.12   \n",
              "98                                    127,080.36   \n",
              "99                                    174,385.19   \n",
              "\n",
              "                 Couple with one child under 14  \\\n",
              "Percentile Point                                  \n",
              "1                                      2,096.31   \n",
              "2                                      6,169.21   \n",
              "3                                      8,043.74   \n",
              "4                                      9,450.90   \n",
              "5                                     10,406.30   \n",
              "...                                         ...   \n",
              "95                                    67,306.27   \n",
              "96                                    73,484.61   \n",
              "97                                    81,510.09   \n",
              "98                                    95,310.27   \n",
              "99                                   130,788.89   \n",
              "\n",
              "                 Couple with two children aged 15 to 18  \\\n",
              "Percentile Point                                          \n",
              "1                                              2,899.89   \n",
              "2                                              8,534.07   \n",
              "3                                             11,127.17   \n",
              "4                                             13,073.75   \n",
              "5                                             14,395.38   \n",
              "...                                                 ...   \n",
              "95                                            93,107.01   \n",
              "96                                           101,653.72   \n",
              "97                                           112,755.62   \n",
              "98                                           131,845.88   \n",
              "99                                           180,924.64   \n",
              "\n",
              "                 Couple, two children under 14 plus dependent adult  \\\n",
              "Percentile Point                                                      \n",
              "1                                                          3,022.18   \n",
              "2                                                          8,893.95   \n",
              "3                                                         11,596.39   \n",
              "4                                                         13,625.05   \n",
              "5                                                         15,002.41   \n",
              "...                                                             ...   \n",
              "95                                                        97,033.21   \n",
              "96                                                       105,940.32   \n",
              "97                                                       117,510.37   \n",
              "98                                                       137,405.64   \n",
              "99                                                       188,553.99   \n",
              "\n",
              "                 Single adult Lone parent, one child under 14  \\\n",
              "Percentile Point                                                \n",
              "1                    1,170.44                        1,519.82   \n",
              "2                    3,444.48                        4,472.68   \n",
              "3                    4,491.09                        5,831.71   \n",
              "4                    5,276.75                        6,851.90   \n",
              "5                    5,810.18                        7,544.57   \n",
              "...                       ...                             ...   \n",
              "95                  37,579.34                       48,797.05   \n",
              "96                  41,028.91                       53,276.35   \n",
              "97                  45,509.80                       59,094.81   \n",
              "98                  53,214.90                       69,099.95   \n",
              "99                  73,023.80                       94,821.95   \n",
              "\n",
              "                 Lone parent, two children under 14  \\\n",
              "Percentile Point                                      \n",
              "1                                          1,869.21   \n",
              "2                                          5,500.88   \n",
              "3                                          7,172.33   \n",
              "4                                          8,427.05   \n",
              "5                                          9,278.95   \n",
              "...                                             ...   \n",
              "95                                        60,014.76   \n",
              "96                                        65,523.78   \n",
              "97                                        72,679.83   \n",
              "98                                        84,984.99   \n",
              "99                                       116,620.10   \n",
              "\n",
              "                 Lone parent, two children aged 15-18 ANNOTATIONS  \\\n",
              "Percentile Point                                                    \n",
              "1                                            2,323.41         NaN   \n",
              "2                                            6,837.54         NaN   \n",
              "3                                            8,915.14         NaN   \n",
              "4                                           10,474.75         NaN   \n",
              "5                                           11,533.65         NaN   \n",
              "...                                               ...         ...   \n",
              "95                                          74,597.79         NaN   \n",
              "96                                          81,445.45         NaN   \n",
              "97                                          90,340.35         NaN   \n",
              "98                                         105,635.55         NaN   \n",
              "99                                         144,957.69         NaN   \n",
              "\n",
              "                 1979 to 1996-97 1996-97 to 2009-10 1996-97 to 2010-11  \n",
              "Percentile Point                                                        \n",
              "1                            NaN                NaN                NaN  \n",
              "2                         -0.20%             -1.30%             -0.50%  \n",
              "3                          0.40%              0.10%              0.10%  \n",
              "4                          0.50%              0.80%              0.60%  \n",
              "5                          0.70%              1.00%              0.90%  \n",
              "...                          ...                ...                ...  \n",
              "95                         2.90%              2.00%              1.30%  \n",
              "96                         3.00%              2.00%              1.40%  \n",
              "97                         3.20%              2.20%              1.60%  \n",
              "98                         3.20%              2.70%              1.70%  \n",
              "99                           NaN                NaN                NaN  \n",
              "\n",
              "[99 rows x 15 columns]"
            ],
            "text/html": [
              "\n",
              "  <div id=\"df-4d5ca2c0-4e69-4203-b651-f6e5be5e633e\" class=\"colab-df-container\">\n",
              "    <div>\n",
              "<style scoped>\n",
              "    .dataframe tbody tr th:only-of-type {\n",
              "        vertical-align: middle;\n",
              "    }\n",
              "\n",
              "    .dataframe tbody tr th {\n",
              "        vertical-align: top;\n",
              "    }\n",
              "\n",
              "    .dataframe thead th {\n",
              "        text-align: right;\n",
              "    }\n",
              "</style>\n",
              "<table border=\"1\" class=\"dataframe\">\n",
              "  <thead>\n",
              "    <tr style=\"text-align: right;\">\n",
              "      <th></th>\n",
              "      <th>Net equivalised household income in 2010-11, week</th>\n",
              "      <th>Childless couple, annual income</th>\n",
              "      <th>Couple, two children under 14</th>\n",
              "      <th>Couple, three children under 14</th>\n",
              "      <th>Couple with one child under 14</th>\n",
              "      <th>Couple with two children aged 15 to 18</th>\n",
              "      <th>Couple, two children under 14 plus dependent adult</th>\n",
              "      <th>Single adult</th>\n",
              "      <th>Lone parent, one child under 14</th>\n",
              "      <th>Lone parent, two children under 14</th>\n",
              "      <th>Lone parent, two children aged 15-18</th>\n",
              "      <th>ANNOTATIONS</th>\n",
              "      <th>1979 to 1996-97</th>\n",
              "      <th>1996-97 to 2009-10</th>\n",
              "      <th>1996-97 to 2010-11</th>\n",
              "    </tr>\n",
              "    <tr>\n",
              "      <th>Percentile Point</th>\n",
              "      <th></th>\n",
              "      <th></th>\n",
              "      <th></th>\n",
              "      <th></th>\n",
              "      <th></th>\n",
              "      <th></th>\n",
              "      <th></th>\n",
              "      <th></th>\n",
              "      <th></th>\n",
              "      <th></th>\n",
              "      <th></th>\n",
              "      <th></th>\n",
              "      <th></th>\n",
              "      <th></th>\n",
              "      <th></th>\n",
              "    </tr>\n",
              "  </thead>\n",
              "  <tbody>\n",
              "    <tr>\n",
              "      <th>1</th>\n",
              "      <td>33.50</td>\n",
              "      <td>1,746.92</td>\n",
              "      <td>2,445.69</td>\n",
              "      <td>2,795.08</td>\n",
              "      <td>2,096.31</td>\n",
              "      <td>2,899.89</td>\n",
              "      <td>3,022.18</td>\n",
              "      <td>1,170.44</td>\n",
              "      <td>1,519.82</td>\n",
              "      <td>1,869.21</td>\n",
              "      <td>2,323.41</td>\n",
              "      <td>NaN</td>\n",
              "      <td>NaN</td>\n",
              "      <td>NaN</td>\n",
              "      <td>NaN</td>\n",
              "    </tr>\n",
              "    <tr>\n",
              "      <th>2</th>\n",
              "      <td>98.60</td>\n",
              "      <td>5,141.01</td>\n",
              "      <td>7,197.41</td>\n",
              "      <td>8,225.61</td>\n",
              "      <td>6,169.21</td>\n",
              "      <td>8,534.07</td>\n",
              "      <td>8,893.95</td>\n",
              "      <td>3,444.48</td>\n",
              "      <td>4,472.68</td>\n",
              "      <td>5,500.88</td>\n",
              "      <td>6,837.54</td>\n",
              "      <td>NaN</td>\n",
              "      <td>-0.20%</td>\n",
              "      <td>-1.30%</td>\n",
              "      <td>-0.50%</td>\n",
              "    </tr>\n",
              "    <tr>\n",
              "      <th>3</th>\n",
              "      <td>128.56</td>\n",
              "      <td>6,703.11</td>\n",
              "      <td>9,384.36</td>\n",
              "      <td>10,724.98</td>\n",
              "      <td>8,043.74</td>\n",
              "      <td>11,127.17</td>\n",
              "      <td>11,596.39</td>\n",
              "      <td>4,491.09</td>\n",
              "      <td>5,831.71</td>\n",
              "      <td>7,172.33</td>\n",
              "      <td>8,915.14</td>\n",
              "      <td>NaN</td>\n",
              "      <td>0.40%</td>\n",
              "      <td>0.10%</td>\n",
              "      <td>0.10%</td>\n",
              "    </tr>\n",
              "    <tr>\n",
              "      <th>4</th>\n",
              "      <td>151.05</td>\n",
              "      <td>7,875.75</td>\n",
              "      <td>11,026.05</td>\n",
              "      <td>12,601.20</td>\n",
              "      <td>9,450.90</td>\n",
              "      <td>13,073.75</td>\n",
              "      <td>13,625.05</td>\n",
              "      <td>5,276.75</td>\n",
              "      <td>6,851.90</td>\n",
              "      <td>8,427.05</td>\n",
              "      <td>10,474.75</td>\n",
              "      <td>NaN</td>\n",
              "      <td>0.50%</td>\n",
              "      <td>0.80%</td>\n",
              "      <td>0.60%</td>\n",
              "    </tr>\n",
              "    <tr>\n",
              "      <th>5</th>\n",
              "      <td>166.32</td>\n",
              "      <td>8,671.91</td>\n",
              "      <td>12,140.68</td>\n",
              "      <td>13,875.06</td>\n",
              "      <td>10,406.30</td>\n",
              "      <td>14,395.38</td>\n",
              "      <td>15,002.41</td>\n",
              "      <td>5,810.18</td>\n",
              "      <td>7,544.57</td>\n",
              "      <td>9,278.95</td>\n",
              "      <td>11,533.65</td>\n",
              "      <td>NaN</td>\n",
              "      <td>0.70%</td>\n",
              "      <td>1.00%</td>\n",
              "      <td>0.90%</td>\n",
              "    </tr>\n",
              "    <tr>\n",
              "      <th>...</th>\n",
              "      <td>...</td>\n",
              "      <td>...</td>\n",
              "      <td>...</td>\n",
              "      <td>...</td>\n",
              "      <td>...</td>\n",
              "      <td>...</td>\n",
              "      <td>...</td>\n",
              "      <td>...</td>\n",
              "      <td>...</td>\n",
              "      <td>...</td>\n",
              "      <td>...</td>\n",
              "      <td>...</td>\n",
              "      <td>...</td>\n",
              "      <td>...</td>\n",
              "      <td>...</td>\n",
              "    </tr>\n",
              "    <tr>\n",
              "      <th>95</th>\n",
              "      <td>1075.73</td>\n",
              "      <td>56,088.56</td>\n",
              "      <td>78,523.99</td>\n",
              "      <td>89,741.70</td>\n",
              "      <td>67,306.27</td>\n",
              "      <td>93,107.01</td>\n",
              "      <td>97,033.21</td>\n",
              "      <td>37,579.34</td>\n",
              "      <td>48,797.05</td>\n",
              "      <td>60,014.76</td>\n",
              "      <td>74,597.79</td>\n",
              "      <td>NaN</td>\n",
              "      <td>2.90%</td>\n",
              "      <td>2.00%</td>\n",
              "      <td>1.30%</td>\n",
              "    </tr>\n",
              "    <tr>\n",
              "      <th>96</th>\n",
              "      <td>1174.48</td>\n",
              "      <td>61,237.18</td>\n",
              "      <td>85,732.05</td>\n",
              "      <td>97,979.49</td>\n",
              "      <td>73,484.61</td>\n",
              "      <td>101,653.72</td>\n",
              "      <td>105,940.32</td>\n",
              "      <td>41,028.91</td>\n",
              "      <td>53,276.35</td>\n",
              "      <td>65,523.78</td>\n",
              "      <td>81,445.45</td>\n",
              "      <td>NaN</td>\n",
              "      <td>3.00%</td>\n",
              "      <td>2.00%</td>\n",
              "      <td>1.40%</td>\n",
              "    </tr>\n",
              "    <tr>\n",
              "      <th>97</th>\n",
              "      <td>1302.74</td>\n",
              "      <td>67,925.07</td>\n",
              "      <td>95,095.10</td>\n",
              "      <td>108,680.12</td>\n",
              "      <td>81,510.09</td>\n",
              "      <td>112,755.62</td>\n",
              "      <td>117,510.37</td>\n",
              "      <td>45,509.80</td>\n",
              "      <td>59,094.81</td>\n",
              "      <td>72,679.83</td>\n",
              "      <td>90,340.35</td>\n",
              "      <td>NaN</td>\n",
              "      <td>3.20%</td>\n",
              "      <td>2.20%</td>\n",
              "      <td>1.60%</td>\n",
              "    </tr>\n",
              "    <tr>\n",
              "      <th>98</th>\n",
              "      <td>1523.31</td>\n",
              "      <td>79,425.23</td>\n",
              "      <td>111,195.32</td>\n",
              "      <td>127,080.36</td>\n",
              "      <td>95,310.27</td>\n",
              "      <td>131,845.88</td>\n",
              "      <td>137,405.64</td>\n",
              "      <td>53,214.90</td>\n",
              "      <td>69,099.95</td>\n",
              "      <td>84,984.99</td>\n",
              "      <td>105,635.55</td>\n",
              "      <td>NaN</td>\n",
              "      <td>3.20%</td>\n",
              "      <td>2.70%</td>\n",
              "      <td>1.70%</td>\n",
              "    </tr>\n",
              "    <tr>\n",
              "      <th>99</th>\n",
              "      <td>2090.35</td>\n",
              "      <td>108,990.74</td>\n",
              "      <td>152,587.04</td>\n",
              "      <td>174,385.19</td>\n",
              "      <td>130,788.89</td>\n",
              "      <td>180,924.64</td>\n",
              "      <td>188,553.99</td>\n",
              "      <td>73,023.80</td>\n",
              "      <td>94,821.95</td>\n",
              "      <td>116,620.10</td>\n",
              "      <td>144,957.69</td>\n",
              "      <td>NaN</td>\n",
              "      <td>NaN</td>\n",
              "      <td>NaN</td>\n",
              "      <td>NaN</td>\n",
              "    </tr>\n",
              "  </tbody>\n",
              "</table>\n",
              "<p>99 rows × 15 columns</p>\n",
              "</div>\n",
              "    <div class=\"colab-df-buttons\">\n",
              "\n",
              "  <div class=\"colab-df-container\">\n",
              "    <button class=\"colab-df-convert\" onclick=\"convertToInteractive('df-4d5ca2c0-4e69-4203-b651-f6e5be5e633e')\"\n",
              "            title=\"Convert this dataframe to an interactive table.\"\n",
              "            style=\"display:none;\">\n",
              "\n",
              "  <svg xmlns=\"http://www.w3.org/2000/svg\" height=\"24px\" viewBox=\"0 -960 960 960\">\n",
              "    <path d=\"M120-120v-720h720v720H120Zm60-500h600v-160H180v160Zm220 220h160v-160H400v160Zm0 220h160v-160H400v160ZM180-400h160v-160H180v160Zm440 0h160v-160H620v160ZM180-180h160v-160H180v160Zm440 0h160v-160H620v160Z\"/>\n",
              "  </svg>\n",
              "    </button>\n",
              "\n",
              "  <style>\n",
              "    .colab-df-container {\n",
              "      display:flex;\n",
              "      gap: 12px;\n",
              "    }\n",
              "\n",
              "    .colab-df-convert {\n",
              "      background-color: #E8F0FE;\n",
              "      border: none;\n",
              "      border-radius: 50%;\n",
              "      cursor: pointer;\n",
              "      display: none;\n",
              "      fill: #1967D2;\n",
              "      height: 32px;\n",
              "      padding: 0 0 0 0;\n",
              "      width: 32px;\n",
              "    }\n",
              "\n",
              "    .colab-df-convert:hover {\n",
              "      background-color: #E2EBFA;\n",
              "      box-shadow: 0px 1px 2px rgba(60, 64, 67, 0.3), 0px 1px 3px 1px rgba(60, 64, 67, 0.15);\n",
              "      fill: #174EA6;\n",
              "    }\n",
              "\n",
              "    .colab-df-buttons div {\n",
              "      margin-bottom: 4px;\n",
              "    }\n",
              "\n",
              "    [theme=dark] .colab-df-convert {\n",
              "      background-color: #3B4455;\n",
              "      fill: #D2E3FC;\n",
              "    }\n",
              "\n",
              "    [theme=dark] .colab-df-convert:hover {\n",
              "      background-color: #434B5C;\n",
              "      box-shadow: 0px 1px 3px 1px rgba(0, 0, 0, 0.15);\n",
              "      filter: drop-shadow(0px 1px 2px rgba(0, 0, 0, 0.3));\n",
              "      fill: #FFFFFF;\n",
              "    }\n",
              "  </style>\n",
              "\n",
              "    <script>\n",
              "      const buttonEl =\n",
              "        document.querySelector('#df-4d5ca2c0-4e69-4203-b651-f6e5be5e633e button.colab-df-convert');\n",
              "      buttonEl.style.display =\n",
              "        google.colab.kernel.accessAllowed ? 'block' : 'none';\n",
              "\n",
              "      async function convertToInteractive(key) {\n",
              "        const element = document.querySelector('#df-4d5ca2c0-4e69-4203-b651-f6e5be5e633e');\n",
              "        const dataTable =\n",
              "          await google.colab.kernel.invokeFunction('convertToInteractive',\n",
              "                                                    [key], {});\n",
              "        if (!dataTable) return;\n",
              "\n",
              "        const docLinkHtml = 'Like what you see? Visit the ' +\n",
              "          '<a target=\"_blank\" href=https://colab.research.google.com/notebooks/data_table.ipynb>data table notebook</a>'\n",
              "          + ' to learn more about interactive tables.';\n",
              "        element.innerHTML = '';\n",
              "        dataTable['output_type'] = 'display_data';\n",
              "        await google.colab.output.renderOutput(dataTable, element);\n",
              "        const docLink = document.createElement('div');\n",
              "        docLink.innerHTML = docLinkHtml;\n",
              "        element.appendChild(docLink);\n",
              "      }\n",
              "    </script>\n",
              "  </div>\n",
              "\n",
              "\n",
              "<div id=\"df-44cc86b1-76de-4537-a5bb-2526ab9004e9\">\n",
              "  <button class=\"colab-df-quickchart\" onclick=\"quickchart('df-44cc86b1-76de-4537-a5bb-2526ab9004e9')\"\n",
              "            title=\"Suggest charts\"\n",
              "            style=\"display:none;\">\n",
              "\n",
              "<svg xmlns=\"http://www.w3.org/2000/svg\" height=\"24px\"viewBox=\"0 0 24 24\"\n",
              "     width=\"24px\">\n",
              "    <g>\n",
              "        <path d=\"M19 3H5c-1.1 0-2 .9-2 2v14c0 1.1.9 2 2 2h14c1.1 0 2-.9 2-2V5c0-1.1-.9-2-2-2zM9 17H7v-7h2v7zm4 0h-2V7h2v10zm4 0h-2v-4h2v4z\"/>\n",
              "    </g>\n",
              "</svg>\n",
              "  </button>\n",
              "\n",
              "<style>\n",
              "  .colab-df-quickchart {\n",
              "      --bg-color: #E8F0FE;\n",
              "      --fill-color: #1967D2;\n",
              "      --hover-bg-color: #E2EBFA;\n",
              "      --hover-fill-color: #174EA6;\n",
              "      --disabled-fill-color: #AAA;\n",
              "      --disabled-bg-color: #DDD;\n",
              "  }\n",
              "\n",
              "  [theme=dark] .colab-df-quickchart {\n",
              "      --bg-color: #3B4455;\n",
              "      --fill-color: #D2E3FC;\n",
              "      --hover-bg-color: #434B5C;\n",
              "      --hover-fill-color: #FFFFFF;\n",
              "      --disabled-bg-color: #3B4455;\n",
              "      --disabled-fill-color: #666;\n",
              "  }\n",
              "\n",
              "  .colab-df-quickchart {\n",
              "    background-color: var(--bg-color);\n",
              "    border: none;\n",
              "    border-radius: 50%;\n",
              "    cursor: pointer;\n",
              "    display: none;\n",
              "    fill: var(--fill-color);\n",
              "    height: 32px;\n",
              "    padding: 0;\n",
              "    width: 32px;\n",
              "  }\n",
              "\n",
              "  .colab-df-quickchart:hover {\n",
              "    background-color: var(--hover-bg-color);\n",
              "    box-shadow: 0 1px 2px rgba(60, 64, 67, 0.3), 0 1px 3px 1px rgba(60, 64, 67, 0.15);\n",
              "    fill: var(--button-hover-fill-color);\n",
              "  }\n",
              "\n",
              "  .colab-df-quickchart-complete:disabled,\n",
              "  .colab-df-quickchart-complete:disabled:hover {\n",
              "    background-color: var(--disabled-bg-color);\n",
              "    fill: var(--disabled-fill-color);\n",
              "    box-shadow: none;\n",
              "  }\n",
              "\n",
              "  .colab-df-spinner {\n",
              "    border: 2px solid var(--fill-color);\n",
              "    border-color: transparent;\n",
              "    border-bottom-color: var(--fill-color);\n",
              "    animation:\n",
              "      spin 1s steps(1) infinite;\n",
              "  }\n",
              "\n",
              "  @keyframes spin {\n",
              "    0% {\n",
              "      border-color: transparent;\n",
              "      border-bottom-color: var(--fill-color);\n",
              "      border-left-color: var(--fill-color);\n",
              "    }\n",
              "    20% {\n",
              "      border-color: transparent;\n",
              "      border-left-color: var(--fill-color);\n",
              "      border-top-color: var(--fill-color);\n",
              "    }\n",
              "    30% {\n",
              "      border-color: transparent;\n",
              "      border-left-color: var(--fill-color);\n",
              "      border-top-color: var(--fill-color);\n",
              "      border-right-color: var(--fill-color);\n",
              "    }\n",
              "    40% {\n",
              "      border-color: transparent;\n",
              "      border-right-color: var(--fill-color);\n",
              "      border-top-color: var(--fill-color);\n",
              "    }\n",
              "    60% {\n",
              "      border-color: transparent;\n",
              "      border-right-color: var(--fill-color);\n",
              "    }\n",
              "    80% {\n",
              "      border-color: transparent;\n",
              "      border-right-color: var(--fill-color);\n",
              "      border-bottom-color: var(--fill-color);\n",
              "    }\n",
              "    90% {\n",
              "      border-color: transparent;\n",
              "      border-bottom-color: var(--fill-color);\n",
              "    }\n",
              "  }\n",
              "</style>\n",
              "\n",
              "  <script>\n",
              "    async function quickchart(key) {\n",
              "      const quickchartButtonEl =\n",
              "        document.querySelector('#' + key + ' button');\n",
              "      quickchartButtonEl.disabled = true;  // To prevent multiple clicks.\n",
              "      quickchartButtonEl.classList.add('colab-df-spinner');\n",
              "      try {\n",
              "        const charts = await google.colab.kernel.invokeFunction(\n",
              "            'suggestCharts', [key], {});\n",
              "      } catch (error) {\n",
              "        console.error('Error during call to suggestCharts:', error);\n",
              "      }\n",
              "      quickchartButtonEl.classList.remove('colab-df-spinner');\n",
              "      quickchartButtonEl.classList.add('colab-df-quickchart-complete');\n",
              "    }\n",
              "    (() => {\n",
              "      let quickchartButtonEl =\n",
              "        document.querySelector('#df-44cc86b1-76de-4537-a5bb-2526ab9004e9 button');\n",
              "      quickchartButtonEl.style.display =\n",
              "        google.colab.kernel.accessAllowed ? 'block' : 'none';\n",
              "    })();\n",
              "  </script>\n",
              "</div>\n",
              "    </div>\n",
              "  </div>\n"
            ]
          },
          "metadata": {},
          "execution_count": 7
        }
      ],
      "source": [
        "data_path = \"./data/wk2/incomes.csv\"\n",
        "\n",
        "income =  pandas.read_csv(data_path, index_col=0)\n",
        "income.head(100)"
      ]
    },
    {
      "cell_type": "markdown",
      "metadata": {
        "id": "nwBN9m9BOglN"
      },
      "source": [
        "This is a simple dataframe - we see the percentile and an income. Note that I've told pandas to use the first column (the Percentile) as the index to make life easier.\n",
        "\n",
        "The percentile tells us how people on that income rank - so the final category, 99% (which is really binned, so 99%<n$\\leq$ 100%), is telling us how much \"the 1%\" earn. Let's find out:"
      ]
    },
    {
      "cell_type": "code",
      "execution_count": 8,
      "metadata": {
        "id": "SqAN20onOglN",
        "colab": {
          "base_uri": "https://localhost:8080/",
          "height": 529
        },
        "outputId": "a644ca18-3a36-4bf9-a5f2-a4b46dbf1591"
      },
      "outputs": [
        {
          "output_type": "execute_result",
          "data": {
            "text/plain": [
              "                  Net equivalised household income in 2010-11, week  \\\n",
              "Percentile Point                                                      \n",
              "90                                                           845.54   \n",
              "91                                                           876.63   \n",
              "92                                                           911.29   \n",
              "93                                                           957.14   \n",
              "94                                                          1016.37   \n",
              "95                                                          1075.73   \n",
              "96                                                          1174.48   \n",
              "97                                                          1302.74   \n",
              "98                                                          1523.31   \n",
              "99                                                          2090.35   \n",
              "\n",
              "                 Childless couple, annual income  \\\n",
              "Percentile Point                                   \n",
              "90                                     44,086.54   \n",
              "91                                     45,707.74   \n",
              "92                                     47,514.54   \n",
              "93                                     49,905.23   \n",
              "94                                     52,993.38   \n",
              "95                                     56,088.56   \n",
              "96                                     61,237.18   \n",
              "97                                     67,925.07   \n",
              "98                                     79,425.23   \n",
              "99                                    108,990.74   \n",
              "\n",
              "                 Couple, two children under 14  \\\n",
              "Percentile Point                                 \n",
              "90                                   61,721.15   \n",
              "91                                   63,990.84   \n",
              "92                                   66,520.35   \n",
              "93                                   69,867.32   \n",
              "94                                   74,190.73   \n",
              "95                                   78,523.99   \n",
              "96                                   85,732.05   \n",
              "97                                   95,095.10   \n",
              "98                                  111,195.32   \n",
              "99                                  152,587.04   \n",
              "\n",
              "                 Couple, three children under 14  \\\n",
              "Percentile Point                                   \n",
              "90                                     70,538.46   \n",
              "91                                     73,132.39   \n",
              "92                                     76,023.26   \n",
              "93                                     79,848.36   \n",
              "94                                     84,789.40   \n",
              "95                                     89,741.70   \n",
              "96                                     97,979.49   \n",
              "97                                    108,680.12   \n",
              "98                                    127,080.36   \n",
              "99                                    174,385.19   \n",
              "\n",
              "                 Couple with one child under 14  \\\n",
              "Percentile Point                                  \n",
              "90                                    52,903.85   \n",
              "91                                    54,849.29   \n",
              "92                                    57,017.44   \n",
              "93                                    59,886.27   \n",
              "94                                    63,592.05   \n",
              "95                                    67,306.27   \n",
              "96                                    73,484.61   \n",
              "97                                    81,510.09   \n",
              "98                                    95,310.27   \n",
              "99                                   130,788.89   \n",
              "\n",
              "                 Couple with two children aged 15 to 18  \\\n",
              "Percentile Point                                          \n",
              "90                                            73,183.65   \n",
              "91                                            75,874.85   \n",
              "92                                            78,874.13   \n",
              "93                                            82,842.68   \n",
              "94                                            87,969.00   \n",
              "95                                            93,107.01   \n",
              "96                                           101,653.72   \n",
              "97                                           112,755.62   \n",
              "98                                           131,845.88   \n",
              "99                                           180,924.64   \n",
              "\n",
              "                 Couple, two children under 14 plus dependent adult  \\\n",
              "Percentile Point                                                      \n",
              "90                                                        76,269.71   \n",
              "91                                                        79,074.40   \n",
              "92                                                        82,200.15   \n",
              "93                                                        86,336.04   \n",
              "94                                                        91,678.54   \n",
              "95                                                        97,033.21   \n",
              "96                                                       105,940.32   \n",
              "97                                                       117,510.37   \n",
              "98                                                       137,405.64   \n",
              "99                                                       188,553.99   \n",
              "\n",
              "                 Single adult Lone parent, one child under 14  \\\n",
              "Percentile Point                                                \n",
              "90                  29,537.98                       38,355.29   \n",
              "91                  30,624.19                       39,765.74   \n",
              "92                  31,834.74                       41,337.65   \n",
              "93                  33,436.50                       43,417.55   \n",
              "94                  35,505.56                       46,104.24   \n",
              "95                  37,579.34                       48,797.05   \n",
              "96                  41,028.91                       53,276.35   \n",
              "97                  45,509.80                       59,094.81   \n",
              "98                  53,214.90                       69,099.95   \n",
              "99                  73,023.80                       94,821.95   \n",
              "\n",
              "                 Lone parent, two children under 14  \\\n",
              "Percentile Point                                      \n",
              "90                                        47,172.60   \n",
              "91                                        48,907.29   \n",
              "92                                        50,840.55   \n",
              "93                                        53,398.59   \n",
              "94                                        56,702.91   \n",
              "95                                        60,014.76   \n",
              "96                                        65,523.78   \n",
              "97                                        72,679.83   \n",
              "98                                        84,984.99   \n",
              "99                                       116,620.10   \n",
              "\n",
              "                 Lone parent, two children aged 15-18 ANNOTATIONS  \\\n",
              "Percentile Point                                                    \n",
              "90                                          58,635.10         NaN   \n",
              "91                                          60,791.30         NaN   \n",
              "92                                          63,194.33         NaN   \n",
              "93                                          66,373.95         NaN   \n",
              "94                                          70,481.19         NaN   \n",
              "95                                          74,597.79         NaN   \n",
              "96                                          81,445.45         NaN   \n",
              "97                                          90,340.35         NaN   \n",
              "98                                         105,635.55         NaN   \n",
              "99                                         144,957.69         NaN   \n",
              "\n",
              "                 1979 to 1996-97 1996-97 to 2009-10 1996-97 to 2010-11  \n",
              "Percentile Point                                                        \n",
              "90                         2.50%              1.70%              1.20%  \n",
              "91                         2.60%              1.70%              1.20%  \n",
              "92                         2.60%              1.80%              1.20%  \n",
              "93                         2.70%              1.80%              1.30%  \n",
              "94                         2.90%              1.90%              1.30%  \n",
              "95                         2.90%              2.00%              1.30%  \n",
              "96                         3.00%              2.00%              1.40%  \n",
              "97                         3.20%              2.20%              1.60%  \n",
              "98                         3.20%              2.70%              1.70%  \n",
              "99                           NaN                NaN                NaN  "
            ],
            "text/html": [
              "\n",
              "  <div id=\"df-5307b5b4-687a-49cd-9886-1eb2dfbc3962\" class=\"colab-df-container\">\n",
              "    <div>\n",
              "<style scoped>\n",
              "    .dataframe tbody tr th:only-of-type {\n",
              "        vertical-align: middle;\n",
              "    }\n",
              "\n",
              "    .dataframe tbody tr th {\n",
              "        vertical-align: top;\n",
              "    }\n",
              "\n",
              "    .dataframe thead th {\n",
              "        text-align: right;\n",
              "    }\n",
              "</style>\n",
              "<table border=\"1\" class=\"dataframe\">\n",
              "  <thead>\n",
              "    <tr style=\"text-align: right;\">\n",
              "      <th></th>\n",
              "      <th>Net equivalised household income in 2010-11, week</th>\n",
              "      <th>Childless couple, annual income</th>\n",
              "      <th>Couple, two children under 14</th>\n",
              "      <th>Couple, three children under 14</th>\n",
              "      <th>Couple with one child under 14</th>\n",
              "      <th>Couple with two children aged 15 to 18</th>\n",
              "      <th>Couple, two children under 14 plus dependent adult</th>\n",
              "      <th>Single adult</th>\n",
              "      <th>Lone parent, one child under 14</th>\n",
              "      <th>Lone parent, two children under 14</th>\n",
              "      <th>Lone parent, two children aged 15-18</th>\n",
              "      <th>ANNOTATIONS</th>\n",
              "      <th>1979 to 1996-97</th>\n",
              "      <th>1996-97 to 2009-10</th>\n",
              "      <th>1996-97 to 2010-11</th>\n",
              "    </tr>\n",
              "    <tr>\n",
              "      <th>Percentile Point</th>\n",
              "      <th></th>\n",
              "      <th></th>\n",
              "      <th></th>\n",
              "      <th></th>\n",
              "      <th></th>\n",
              "      <th></th>\n",
              "      <th></th>\n",
              "      <th></th>\n",
              "      <th></th>\n",
              "      <th></th>\n",
              "      <th></th>\n",
              "      <th></th>\n",
              "      <th></th>\n",
              "      <th></th>\n",
              "      <th></th>\n",
              "    </tr>\n",
              "  </thead>\n",
              "  <tbody>\n",
              "    <tr>\n",
              "      <th>90</th>\n",
              "      <td>845.54</td>\n",
              "      <td>44,086.54</td>\n",
              "      <td>61,721.15</td>\n",
              "      <td>70,538.46</td>\n",
              "      <td>52,903.85</td>\n",
              "      <td>73,183.65</td>\n",
              "      <td>76,269.71</td>\n",
              "      <td>29,537.98</td>\n",
              "      <td>38,355.29</td>\n",
              "      <td>47,172.60</td>\n",
              "      <td>58,635.10</td>\n",
              "      <td>NaN</td>\n",
              "      <td>2.50%</td>\n",
              "      <td>1.70%</td>\n",
              "      <td>1.20%</td>\n",
              "    </tr>\n",
              "    <tr>\n",
              "      <th>91</th>\n",
              "      <td>876.63</td>\n",
              "      <td>45,707.74</td>\n",
              "      <td>63,990.84</td>\n",
              "      <td>73,132.39</td>\n",
              "      <td>54,849.29</td>\n",
              "      <td>75,874.85</td>\n",
              "      <td>79,074.40</td>\n",
              "      <td>30,624.19</td>\n",
              "      <td>39,765.74</td>\n",
              "      <td>48,907.29</td>\n",
              "      <td>60,791.30</td>\n",
              "      <td>NaN</td>\n",
              "      <td>2.60%</td>\n",
              "      <td>1.70%</td>\n",
              "      <td>1.20%</td>\n",
              "    </tr>\n",
              "    <tr>\n",
              "      <th>92</th>\n",
              "      <td>911.29</td>\n",
              "      <td>47,514.54</td>\n",
              "      <td>66,520.35</td>\n",
              "      <td>76,023.26</td>\n",
              "      <td>57,017.44</td>\n",
              "      <td>78,874.13</td>\n",
              "      <td>82,200.15</td>\n",
              "      <td>31,834.74</td>\n",
              "      <td>41,337.65</td>\n",
              "      <td>50,840.55</td>\n",
              "      <td>63,194.33</td>\n",
              "      <td>NaN</td>\n",
              "      <td>2.60%</td>\n",
              "      <td>1.80%</td>\n",
              "      <td>1.20%</td>\n",
              "    </tr>\n",
              "    <tr>\n",
              "      <th>93</th>\n",
              "      <td>957.14</td>\n",
              "      <td>49,905.23</td>\n",
              "      <td>69,867.32</td>\n",
              "      <td>79,848.36</td>\n",
              "      <td>59,886.27</td>\n",
              "      <td>82,842.68</td>\n",
              "      <td>86,336.04</td>\n",
              "      <td>33,436.50</td>\n",
              "      <td>43,417.55</td>\n",
              "      <td>53,398.59</td>\n",
              "      <td>66,373.95</td>\n",
              "      <td>NaN</td>\n",
              "      <td>2.70%</td>\n",
              "      <td>1.80%</td>\n",
              "      <td>1.30%</td>\n",
              "    </tr>\n",
              "    <tr>\n",
              "      <th>94</th>\n",
              "      <td>1016.37</td>\n",
              "      <td>52,993.38</td>\n",
              "      <td>74,190.73</td>\n",
              "      <td>84,789.40</td>\n",
              "      <td>63,592.05</td>\n",
              "      <td>87,969.00</td>\n",
              "      <td>91,678.54</td>\n",
              "      <td>35,505.56</td>\n",
              "      <td>46,104.24</td>\n",
              "      <td>56,702.91</td>\n",
              "      <td>70,481.19</td>\n",
              "      <td>NaN</td>\n",
              "      <td>2.90%</td>\n",
              "      <td>1.90%</td>\n",
              "      <td>1.30%</td>\n",
              "    </tr>\n",
              "    <tr>\n",
              "      <th>95</th>\n",
              "      <td>1075.73</td>\n",
              "      <td>56,088.56</td>\n",
              "      <td>78,523.99</td>\n",
              "      <td>89,741.70</td>\n",
              "      <td>67,306.27</td>\n",
              "      <td>93,107.01</td>\n",
              "      <td>97,033.21</td>\n",
              "      <td>37,579.34</td>\n",
              "      <td>48,797.05</td>\n",
              "      <td>60,014.76</td>\n",
              "      <td>74,597.79</td>\n",
              "      <td>NaN</td>\n",
              "      <td>2.90%</td>\n",
              "      <td>2.00%</td>\n",
              "      <td>1.30%</td>\n",
              "    </tr>\n",
              "    <tr>\n",
              "      <th>96</th>\n",
              "      <td>1174.48</td>\n",
              "      <td>61,237.18</td>\n",
              "      <td>85,732.05</td>\n",
              "      <td>97,979.49</td>\n",
              "      <td>73,484.61</td>\n",
              "      <td>101,653.72</td>\n",
              "      <td>105,940.32</td>\n",
              "      <td>41,028.91</td>\n",
              "      <td>53,276.35</td>\n",
              "      <td>65,523.78</td>\n",
              "      <td>81,445.45</td>\n",
              "      <td>NaN</td>\n",
              "      <td>3.00%</td>\n",
              "      <td>2.00%</td>\n",
              "      <td>1.40%</td>\n",
              "    </tr>\n",
              "    <tr>\n",
              "      <th>97</th>\n",
              "      <td>1302.74</td>\n",
              "      <td>67,925.07</td>\n",
              "      <td>95,095.10</td>\n",
              "      <td>108,680.12</td>\n",
              "      <td>81,510.09</td>\n",
              "      <td>112,755.62</td>\n",
              "      <td>117,510.37</td>\n",
              "      <td>45,509.80</td>\n",
              "      <td>59,094.81</td>\n",
              "      <td>72,679.83</td>\n",
              "      <td>90,340.35</td>\n",
              "      <td>NaN</td>\n",
              "      <td>3.20%</td>\n",
              "      <td>2.20%</td>\n",
              "      <td>1.60%</td>\n",
              "    </tr>\n",
              "    <tr>\n",
              "      <th>98</th>\n",
              "      <td>1523.31</td>\n",
              "      <td>79,425.23</td>\n",
              "      <td>111,195.32</td>\n",
              "      <td>127,080.36</td>\n",
              "      <td>95,310.27</td>\n",
              "      <td>131,845.88</td>\n",
              "      <td>137,405.64</td>\n",
              "      <td>53,214.90</td>\n",
              "      <td>69,099.95</td>\n",
              "      <td>84,984.99</td>\n",
              "      <td>105,635.55</td>\n",
              "      <td>NaN</td>\n",
              "      <td>3.20%</td>\n",
              "      <td>2.70%</td>\n",
              "      <td>1.70%</td>\n",
              "    </tr>\n",
              "    <tr>\n",
              "      <th>99</th>\n",
              "      <td>2090.35</td>\n",
              "      <td>108,990.74</td>\n",
              "      <td>152,587.04</td>\n",
              "      <td>174,385.19</td>\n",
              "      <td>130,788.89</td>\n",
              "      <td>180,924.64</td>\n",
              "      <td>188,553.99</td>\n",
              "      <td>73,023.80</td>\n",
              "      <td>94,821.95</td>\n",
              "      <td>116,620.10</td>\n",
              "      <td>144,957.69</td>\n",
              "      <td>NaN</td>\n",
              "      <td>NaN</td>\n",
              "      <td>NaN</td>\n",
              "      <td>NaN</td>\n",
              "    </tr>\n",
              "  </tbody>\n",
              "</table>\n",
              "</div>\n",
              "    <div class=\"colab-df-buttons\">\n",
              "\n",
              "  <div class=\"colab-df-container\">\n",
              "    <button class=\"colab-df-convert\" onclick=\"convertToInteractive('df-5307b5b4-687a-49cd-9886-1eb2dfbc3962')\"\n",
              "            title=\"Convert this dataframe to an interactive table.\"\n",
              "            style=\"display:none;\">\n",
              "\n",
              "  <svg xmlns=\"http://www.w3.org/2000/svg\" height=\"24px\" viewBox=\"0 -960 960 960\">\n",
              "    <path d=\"M120-120v-720h720v720H120Zm60-500h600v-160H180v160Zm220 220h160v-160H400v160Zm0 220h160v-160H400v160ZM180-400h160v-160H180v160Zm440 0h160v-160H620v160ZM180-180h160v-160H180v160Zm440 0h160v-160H620v160Z\"/>\n",
              "  </svg>\n",
              "    </button>\n",
              "\n",
              "  <style>\n",
              "    .colab-df-container {\n",
              "      display:flex;\n",
              "      gap: 12px;\n",
              "    }\n",
              "\n",
              "    .colab-df-convert {\n",
              "      background-color: #E8F0FE;\n",
              "      border: none;\n",
              "      border-radius: 50%;\n",
              "      cursor: pointer;\n",
              "      display: none;\n",
              "      fill: #1967D2;\n",
              "      height: 32px;\n",
              "      padding: 0 0 0 0;\n",
              "      width: 32px;\n",
              "    }\n",
              "\n",
              "    .colab-df-convert:hover {\n",
              "      background-color: #E2EBFA;\n",
              "      box-shadow: 0px 1px 2px rgba(60, 64, 67, 0.3), 0px 1px 3px 1px rgba(60, 64, 67, 0.15);\n",
              "      fill: #174EA6;\n",
              "    }\n",
              "\n",
              "    .colab-df-buttons div {\n",
              "      margin-bottom: 4px;\n",
              "    }\n",
              "\n",
              "    [theme=dark] .colab-df-convert {\n",
              "      background-color: #3B4455;\n",
              "      fill: #D2E3FC;\n",
              "    }\n",
              "\n",
              "    [theme=dark] .colab-df-convert:hover {\n",
              "      background-color: #434B5C;\n",
              "      box-shadow: 0px 1px 3px 1px rgba(0, 0, 0, 0.15);\n",
              "      filter: drop-shadow(0px 1px 2px rgba(0, 0, 0, 0.3));\n",
              "      fill: #FFFFFF;\n",
              "    }\n",
              "  </style>\n",
              "\n",
              "    <script>\n",
              "      const buttonEl =\n",
              "        document.querySelector('#df-5307b5b4-687a-49cd-9886-1eb2dfbc3962 button.colab-df-convert');\n",
              "      buttonEl.style.display =\n",
              "        google.colab.kernel.accessAllowed ? 'block' : 'none';\n",
              "\n",
              "      async function convertToInteractive(key) {\n",
              "        const element = document.querySelector('#df-5307b5b4-687a-49cd-9886-1eb2dfbc3962');\n",
              "        const dataTable =\n",
              "          await google.colab.kernel.invokeFunction('convertToInteractive',\n",
              "                                                    [key], {});\n",
              "        if (!dataTable) return;\n",
              "\n",
              "        const docLinkHtml = 'Like what you see? Visit the ' +\n",
              "          '<a target=\"_blank\" href=https://colab.research.google.com/notebooks/data_table.ipynb>data table notebook</a>'\n",
              "          + ' to learn more about interactive tables.';\n",
              "        element.innerHTML = '';\n",
              "        dataTable['output_type'] = 'display_data';\n",
              "        await google.colab.output.renderOutput(dataTable, element);\n",
              "        const docLink = document.createElement('div');\n",
              "        docLink.innerHTML = docLinkHtml;\n",
              "        element.appendChild(docLink);\n",
              "      }\n",
              "    </script>\n",
              "  </div>\n",
              "\n",
              "\n",
              "<div id=\"df-bd373098-7947-423f-9544-4636a45cf4b2\">\n",
              "  <button class=\"colab-df-quickchart\" onclick=\"quickchart('df-bd373098-7947-423f-9544-4636a45cf4b2')\"\n",
              "            title=\"Suggest charts\"\n",
              "            style=\"display:none;\">\n",
              "\n",
              "<svg xmlns=\"http://www.w3.org/2000/svg\" height=\"24px\"viewBox=\"0 0 24 24\"\n",
              "     width=\"24px\">\n",
              "    <g>\n",
              "        <path d=\"M19 3H5c-1.1 0-2 .9-2 2v14c0 1.1.9 2 2 2h14c1.1 0 2-.9 2-2V5c0-1.1-.9-2-2-2zM9 17H7v-7h2v7zm4 0h-2V7h2v10zm4 0h-2v-4h2v4z\"/>\n",
              "    </g>\n",
              "</svg>\n",
              "  </button>\n",
              "\n",
              "<style>\n",
              "  .colab-df-quickchart {\n",
              "      --bg-color: #E8F0FE;\n",
              "      --fill-color: #1967D2;\n",
              "      --hover-bg-color: #E2EBFA;\n",
              "      --hover-fill-color: #174EA6;\n",
              "      --disabled-fill-color: #AAA;\n",
              "      --disabled-bg-color: #DDD;\n",
              "  }\n",
              "\n",
              "  [theme=dark] .colab-df-quickchart {\n",
              "      --bg-color: #3B4455;\n",
              "      --fill-color: #D2E3FC;\n",
              "      --hover-bg-color: #434B5C;\n",
              "      --hover-fill-color: #FFFFFF;\n",
              "      --disabled-bg-color: #3B4455;\n",
              "      --disabled-fill-color: #666;\n",
              "  }\n",
              "\n",
              "  .colab-df-quickchart {\n",
              "    background-color: var(--bg-color);\n",
              "    border: none;\n",
              "    border-radius: 50%;\n",
              "    cursor: pointer;\n",
              "    display: none;\n",
              "    fill: var(--fill-color);\n",
              "    height: 32px;\n",
              "    padding: 0;\n",
              "    width: 32px;\n",
              "  }\n",
              "\n",
              "  .colab-df-quickchart:hover {\n",
              "    background-color: var(--hover-bg-color);\n",
              "    box-shadow: 0 1px 2px rgba(60, 64, 67, 0.3), 0 1px 3px 1px rgba(60, 64, 67, 0.15);\n",
              "    fill: var(--button-hover-fill-color);\n",
              "  }\n",
              "\n",
              "  .colab-df-quickchart-complete:disabled,\n",
              "  .colab-df-quickchart-complete:disabled:hover {\n",
              "    background-color: var(--disabled-bg-color);\n",
              "    fill: var(--disabled-fill-color);\n",
              "    box-shadow: none;\n",
              "  }\n",
              "\n",
              "  .colab-df-spinner {\n",
              "    border: 2px solid var(--fill-color);\n",
              "    border-color: transparent;\n",
              "    border-bottom-color: var(--fill-color);\n",
              "    animation:\n",
              "      spin 1s steps(1) infinite;\n",
              "  }\n",
              "\n",
              "  @keyframes spin {\n",
              "    0% {\n",
              "      border-color: transparent;\n",
              "      border-bottom-color: var(--fill-color);\n",
              "      border-left-color: var(--fill-color);\n",
              "    }\n",
              "    20% {\n",
              "      border-color: transparent;\n",
              "      border-left-color: var(--fill-color);\n",
              "      border-top-color: var(--fill-color);\n",
              "    }\n",
              "    30% {\n",
              "      border-color: transparent;\n",
              "      border-left-color: var(--fill-color);\n",
              "      border-top-color: var(--fill-color);\n",
              "      border-right-color: var(--fill-color);\n",
              "    }\n",
              "    40% {\n",
              "      border-color: transparent;\n",
              "      border-right-color: var(--fill-color);\n",
              "      border-top-color: var(--fill-color);\n",
              "    }\n",
              "    60% {\n",
              "      border-color: transparent;\n",
              "      border-right-color: var(--fill-color);\n",
              "    }\n",
              "    80% {\n",
              "      border-color: transparent;\n",
              "      border-right-color: var(--fill-color);\n",
              "      border-bottom-color: var(--fill-color);\n",
              "    }\n",
              "    90% {\n",
              "      border-color: transparent;\n",
              "      border-bottom-color: var(--fill-color);\n",
              "    }\n",
              "  }\n",
              "</style>\n",
              "\n",
              "  <script>\n",
              "    async function quickchart(key) {\n",
              "      const quickchartButtonEl =\n",
              "        document.querySelector('#' + key + ' button');\n",
              "      quickchartButtonEl.disabled = true;  // To prevent multiple clicks.\n",
              "      quickchartButtonEl.classList.add('colab-df-spinner');\n",
              "      try {\n",
              "        const charts = await google.colab.kernel.invokeFunction(\n",
              "            'suggestCharts', [key], {});\n",
              "      } catch (error) {\n",
              "        console.error('Error during call to suggestCharts:', error);\n",
              "      }\n",
              "      quickchartButtonEl.classList.remove('colab-df-spinner');\n",
              "      quickchartButtonEl.classList.add('colab-df-quickchart-complete');\n",
              "    }\n",
              "    (() => {\n",
              "      let quickchartButtonEl =\n",
              "        document.querySelector('#df-bd373098-7947-423f-9544-4636a45cf4b2 button');\n",
              "      quickchartButtonEl.style.display =\n",
              "        google.colab.kernel.accessAllowed ? 'block' : 'none';\n",
              "    })();\n",
              "  </script>\n",
              "</div>\n",
              "    </div>\n",
              "  </div>\n"
            ]
          },
          "metadata": {},
          "execution_count": 8
        }
      ],
      "source": [
        "income.tail(10)"
      ]
    },
    {
      "cell_type": "markdown",
      "metadata": {
        "id": "uvoYh43VOglQ"
      },
      "source": [
        "Well, they we have it - the 1% earn, on average, about £2000 a week. How does that compare to people in the 90% decile? We can access particular *rows* in a dataframe using **.loc[row index]**; because our index is the percentile point, we can just read it off:"
      ]
    },
    {
      "cell_type": "code",
      "execution_count": 9,
      "metadata": {
        "id": "amopH87LOglQ",
        "colab": {
          "base_uri": "https://localhost:8080/"
        },
        "outputId": "617fe6b2-9cf7-42a9-d808-63ef7b115ad1"
      },
      "outputs": [
        {
          "output_type": "execute_result",
          "data": {
            "text/plain": [
              "Net equivalised household income in 2010-11, week        845.54\n",
              "Childless couple, annual income                       44,086.54\n",
              "Couple, two children under 14                         61,721.15\n",
              "Couple, three children under 14                       70,538.46\n",
              "Couple with one child under 14                        52,903.85\n",
              "Couple with two children aged 15 to 18                73,183.65\n",
              "Couple, two children under 14 plus dependent adult    76,269.71\n",
              "Single adult                                          29,537.98\n",
              "Lone parent, one child under 14                       38,355.29\n",
              "Lone parent, two children under 14                    47,172.60\n",
              "Lone parent, two children aged 15-18                  58,635.10\n",
              "ANNOTATIONS                                                 NaN\n",
              "1979 to 1996-97                                           2.50%\n",
              "1996-97 to 2009-10                                        1.70%\n",
              "1996-97 to 2010-11                                        1.20%\n",
              "Name: 90, dtype: object"
            ]
          },
          "metadata": {},
          "execution_count": 9
        }
      ],
      "source": [
        "income.loc[90]"
      ]
    },
    {
      "cell_type": "markdown",
      "metadata": {
        "id": "T9-QS6W4OglU"
      },
      "source": [
        "We can also select a range of values with the \"colon\" notation. This will select the 90-95th percentiles, for example:"
      ]
    },
    {
      "cell_type": "code",
      "execution_count": 10,
      "metadata": {
        "id": "VJDvuHzvOglU",
        "colab": {
          "base_uri": "https://localhost:8080/",
          "height": 467
        },
        "outputId": "8ae49d61-55d2-4926-eb4f-6ca314b9c392"
      },
      "outputs": [
        {
          "output_type": "execute_result",
          "data": {
            "text/plain": [
              "                  Net equivalised household income in 2010-11, week  \\\n",
              "Percentile Point                                                      \n",
              "92                                                           911.29   \n",
              "93                                                           957.14   \n",
              "94                                                          1016.37   \n",
              "95                                                          1075.73   \n",
              "96                                                          1174.48   \n",
              "97                                                          1302.74   \n",
              "98                                                          1523.31   \n",
              "99                                                          2090.35   \n",
              "\n",
              "                 Childless couple, annual income  \\\n",
              "Percentile Point                                   \n",
              "92                                     47,514.54   \n",
              "93                                     49,905.23   \n",
              "94                                     52,993.38   \n",
              "95                                     56,088.56   \n",
              "96                                     61,237.18   \n",
              "97                                     67,925.07   \n",
              "98                                     79,425.23   \n",
              "99                                    108,990.74   \n",
              "\n",
              "                 Couple, two children under 14  \\\n",
              "Percentile Point                                 \n",
              "92                                   66,520.35   \n",
              "93                                   69,867.32   \n",
              "94                                   74,190.73   \n",
              "95                                   78,523.99   \n",
              "96                                   85,732.05   \n",
              "97                                   95,095.10   \n",
              "98                                  111,195.32   \n",
              "99                                  152,587.04   \n",
              "\n",
              "                 Couple, three children under 14  \\\n",
              "Percentile Point                                   \n",
              "92                                     76,023.26   \n",
              "93                                     79,848.36   \n",
              "94                                     84,789.40   \n",
              "95                                     89,741.70   \n",
              "96                                     97,979.49   \n",
              "97                                    108,680.12   \n",
              "98                                    127,080.36   \n",
              "99                                    174,385.19   \n",
              "\n",
              "                 Couple with one child under 14  \\\n",
              "Percentile Point                                  \n",
              "92                                    57,017.44   \n",
              "93                                    59,886.27   \n",
              "94                                    63,592.05   \n",
              "95                                    67,306.27   \n",
              "96                                    73,484.61   \n",
              "97                                    81,510.09   \n",
              "98                                    95,310.27   \n",
              "99                                   130,788.89   \n",
              "\n",
              "                 Couple with two children aged 15 to 18  \\\n",
              "Percentile Point                                          \n",
              "92                                            78,874.13   \n",
              "93                                            82,842.68   \n",
              "94                                            87,969.00   \n",
              "95                                            93,107.01   \n",
              "96                                           101,653.72   \n",
              "97                                           112,755.62   \n",
              "98                                           131,845.88   \n",
              "99                                           180,924.64   \n",
              "\n",
              "                 Couple, two children under 14 plus dependent adult  \\\n",
              "Percentile Point                                                      \n",
              "92                                                        82,200.15   \n",
              "93                                                        86,336.04   \n",
              "94                                                        91,678.54   \n",
              "95                                                        97,033.21   \n",
              "96                                                       105,940.32   \n",
              "97                                                       117,510.37   \n",
              "98                                                       137,405.64   \n",
              "99                                                       188,553.99   \n",
              "\n",
              "                 Single adult Lone parent, one child under 14  \\\n",
              "Percentile Point                                                \n",
              "92                  31,834.74                       41,337.65   \n",
              "93                  33,436.50                       43,417.55   \n",
              "94                  35,505.56                       46,104.24   \n",
              "95                  37,579.34                       48,797.05   \n",
              "96                  41,028.91                       53,276.35   \n",
              "97                  45,509.80                       59,094.81   \n",
              "98                  53,214.90                       69,099.95   \n",
              "99                  73,023.80                       94,821.95   \n",
              "\n",
              "                 Lone parent, two children under 14  \\\n",
              "Percentile Point                                      \n",
              "92                                        50,840.55   \n",
              "93                                        53,398.59   \n",
              "94                                        56,702.91   \n",
              "95                                        60,014.76   \n",
              "96                                        65,523.78   \n",
              "97                                        72,679.83   \n",
              "98                                        84,984.99   \n",
              "99                                       116,620.10   \n",
              "\n",
              "                 Lone parent, two children aged 15-18 ANNOTATIONS  \\\n",
              "Percentile Point                                                    \n",
              "92                                          63,194.33         NaN   \n",
              "93                                          66,373.95         NaN   \n",
              "94                                          70,481.19         NaN   \n",
              "95                                          74,597.79         NaN   \n",
              "96                                          81,445.45         NaN   \n",
              "97                                          90,340.35         NaN   \n",
              "98                                         105,635.55         NaN   \n",
              "99                                         144,957.69         NaN   \n",
              "\n",
              "                 1979 to 1996-97 1996-97 to 2009-10 1996-97 to 2010-11  \n",
              "Percentile Point                                                        \n",
              "92                         2.60%              1.80%              1.20%  \n",
              "93                         2.70%              1.80%              1.30%  \n",
              "94                         2.90%              1.90%              1.30%  \n",
              "95                         2.90%              2.00%              1.30%  \n",
              "96                         3.00%              2.00%              1.40%  \n",
              "97                         3.20%              2.20%              1.60%  \n",
              "98                         3.20%              2.70%              1.70%  \n",
              "99                           NaN                NaN                NaN  "
            ],
            "text/html": [
              "\n",
              "  <div id=\"df-9f37c87d-297d-4ae8-a221-6ac8be021100\" class=\"colab-df-container\">\n",
              "    <div>\n",
              "<style scoped>\n",
              "    .dataframe tbody tr th:only-of-type {\n",
              "        vertical-align: middle;\n",
              "    }\n",
              "\n",
              "    .dataframe tbody tr th {\n",
              "        vertical-align: top;\n",
              "    }\n",
              "\n",
              "    .dataframe thead th {\n",
              "        text-align: right;\n",
              "    }\n",
              "</style>\n",
              "<table border=\"1\" class=\"dataframe\">\n",
              "  <thead>\n",
              "    <tr style=\"text-align: right;\">\n",
              "      <th></th>\n",
              "      <th>Net equivalised household income in 2010-11, week</th>\n",
              "      <th>Childless couple, annual income</th>\n",
              "      <th>Couple, two children under 14</th>\n",
              "      <th>Couple, three children under 14</th>\n",
              "      <th>Couple with one child under 14</th>\n",
              "      <th>Couple with two children aged 15 to 18</th>\n",
              "      <th>Couple, two children under 14 plus dependent adult</th>\n",
              "      <th>Single adult</th>\n",
              "      <th>Lone parent, one child under 14</th>\n",
              "      <th>Lone parent, two children under 14</th>\n",
              "      <th>Lone parent, two children aged 15-18</th>\n",
              "      <th>ANNOTATIONS</th>\n",
              "      <th>1979 to 1996-97</th>\n",
              "      <th>1996-97 to 2009-10</th>\n",
              "      <th>1996-97 to 2010-11</th>\n",
              "    </tr>\n",
              "    <tr>\n",
              "      <th>Percentile Point</th>\n",
              "      <th></th>\n",
              "      <th></th>\n",
              "      <th></th>\n",
              "      <th></th>\n",
              "      <th></th>\n",
              "      <th></th>\n",
              "      <th></th>\n",
              "      <th></th>\n",
              "      <th></th>\n",
              "      <th></th>\n",
              "      <th></th>\n",
              "      <th></th>\n",
              "      <th></th>\n",
              "      <th></th>\n",
              "      <th></th>\n",
              "    </tr>\n",
              "  </thead>\n",
              "  <tbody>\n",
              "    <tr>\n",
              "      <th>92</th>\n",
              "      <td>911.29</td>\n",
              "      <td>47,514.54</td>\n",
              "      <td>66,520.35</td>\n",
              "      <td>76,023.26</td>\n",
              "      <td>57,017.44</td>\n",
              "      <td>78,874.13</td>\n",
              "      <td>82,200.15</td>\n",
              "      <td>31,834.74</td>\n",
              "      <td>41,337.65</td>\n",
              "      <td>50,840.55</td>\n",
              "      <td>63,194.33</td>\n",
              "      <td>NaN</td>\n",
              "      <td>2.60%</td>\n",
              "      <td>1.80%</td>\n",
              "      <td>1.20%</td>\n",
              "    </tr>\n",
              "    <tr>\n",
              "      <th>93</th>\n",
              "      <td>957.14</td>\n",
              "      <td>49,905.23</td>\n",
              "      <td>69,867.32</td>\n",
              "      <td>79,848.36</td>\n",
              "      <td>59,886.27</td>\n",
              "      <td>82,842.68</td>\n",
              "      <td>86,336.04</td>\n",
              "      <td>33,436.50</td>\n",
              "      <td>43,417.55</td>\n",
              "      <td>53,398.59</td>\n",
              "      <td>66,373.95</td>\n",
              "      <td>NaN</td>\n",
              "      <td>2.70%</td>\n",
              "      <td>1.80%</td>\n",
              "      <td>1.30%</td>\n",
              "    </tr>\n",
              "    <tr>\n",
              "      <th>94</th>\n",
              "      <td>1016.37</td>\n",
              "      <td>52,993.38</td>\n",
              "      <td>74,190.73</td>\n",
              "      <td>84,789.40</td>\n",
              "      <td>63,592.05</td>\n",
              "      <td>87,969.00</td>\n",
              "      <td>91,678.54</td>\n",
              "      <td>35,505.56</td>\n",
              "      <td>46,104.24</td>\n",
              "      <td>56,702.91</td>\n",
              "      <td>70,481.19</td>\n",
              "      <td>NaN</td>\n",
              "      <td>2.90%</td>\n",
              "      <td>1.90%</td>\n",
              "      <td>1.30%</td>\n",
              "    </tr>\n",
              "    <tr>\n",
              "      <th>95</th>\n",
              "      <td>1075.73</td>\n",
              "      <td>56,088.56</td>\n",
              "      <td>78,523.99</td>\n",
              "      <td>89,741.70</td>\n",
              "      <td>67,306.27</td>\n",
              "      <td>93,107.01</td>\n",
              "      <td>97,033.21</td>\n",
              "      <td>37,579.34</td>\n",
              "      <td>48,797.05</td>\n",
              "      <td>60,014.76</td>\n",
              "      <td>74,597.79</td>\n",
              "      <td>NaN</td>\n",
              "      <td>2.90%</td>\n",
              "      <td>2.00%</td>\n",
              "      <td>1.30%</td>\n",
              "    </tr>\n",
              "    <tr>\n",
              "      <th>96</th>\n",
              "      <td>1174.48</td>\n",
              "      <td>61,237.18</td>\n",
              "      <td>85,732.05</td>\n",
              "      <td>97,979.49</td>\n",
              "      <td>73,484.61</td>\n",
              "      <td>101,653.72</td>\n",
              "      <td>105,940.32</td>\n",
              "      <td>41,028.91</td>\n",
              "      <td>53,276.35</td>\n",
              "      <td>65,523.78</td>\n",
              "      <td>81,445.45</td>\n",
              "      <td>NaN</td>\n",
              "      <td>3.00%</td>\n",
              "      <td>2.00%</td>\n",
              "      <td>1.40%</td>\n",
              "    </tr>\n",
              "    <tr>\n",
              "      <th>97</th>\n",
              "      <td>1302.74</td>\n",
              "      <td>67,925.07</td>\n",
              "      <td>95,095.10</td>\n",
              "      <td>108,680.12</td>\n",
              "      <td>81,510.09</td>\n",
              "      <td>112,755.62</td>\n",
              "      <td>117,510.37</td>\n",
              "      <td>45,509.80</td>\n",
              "      <td>59,094.81</td>\n",
              "      <td>72,679.83</td>\n",
              "      <td>90,340.35</td>\n",
              "      <td>NaN</td>\n",
              "      <td>3.20%</td>\n",
              "      <td>2.20%</td>\n",
              "      <td>1.60%</td>\n",
              "    </tr>\n",
              "    <tr>\n",
              "      <th>98</th>\n",
              "      <td>1523.31</td>\n",
              "      <td>79,425.23</td>\n",
              "      <td>111,195.32</td>\n",
              "      <td>127,080.36</td>\n",
              "      <td>95,310.27</td>\n",
              "      <td>131,845.88</td>\n",
              "      <td>137,405.64</td>\n",
              "      <td>53,214.90</td>\n",
              "      <td>69,099.95</td>\n",
              "      <td>84,984.99</td>\n",
              "      <td>105,635.55</td>\n",
              "      <td>NaN</td>\n",
              "      <td>3.20%</td>\n",
              "      <td>2.70%</td>\n",
              "      <td>1.70%</td>\n",
              "    </tr>\n",
              "    <tr>\n",
              "      <th>99</th>\n",
              "      <td>2090.35</td>\n",
              "      <td>108,990.74</td>\n",
              "      <td>152,587.04</td>\n",
              "      <td>174,385.19</td>\n",
              "      <td>130,788.89</td>\n",
              "      <td>180,924.64</td>\n",
              "      <td>188,553.99</td>\n",
              "      <td>73,023.80</td>\n",
              "      <td>94,821.95</td>\n",
              "      <td>116,620.10</td>\n",
              "      <td>144,957.69</td>\n",
              "      <td>NaN</td>\n",
              "      <td>NaN</td>\n",
              "      <td>NaN</td>\n",
              "      <td>NaN</td>\n",
              "    </tr>\n",
              "  </tbody>\n",
              "</table>\n",
              "</div>\n",
              "    <div class=\"colab-df-buttons\">\n",
              "\n",
              "  <div class=\"colab-df-container\">\n",
              "    <button class=\"colab-df-convert\" onclick=\"convertToInteractive('df-9f37c87d-297d-4ae8-a221-6ac8be021100')\"\n",
              "            title=\"Convert this dataframe to an interactive table.\"\n",
              "            style=\"display:none;\">\n",
              "\n",
              "  <svg xmlns=\"http://www.w3.org/2000/svg\" height=\"24px\" viewBox=\"0 -960 960 960\">\n",
              "    <path d=\"M120-120v-720h720v720H120Zm60-500h600v-160H180v160Zm220 220h160v-160H400v160Zm0 220h160v-160H400v160ZM180-400h160v-160H180v160Zm440 0h160v-160H620v160ZM180-180h160v-160H180v160Zm440 0h160v-160H620v160Z\"/>\n",
              "  </svg>\n",
              "    </button>\n",
              "\n",
              "  <style>\n",
              "    .colab-df-container {\n",
              "      display:flex;\n",
              "      gap: 12px;\n",
              "    }\n",
              "\n",
              "    .colab-df-convert {\n",
              "      background-color: #E8F0FE;\n",
              "      border: none;\n",
              "      border-radius: 50%;\n",
              "      cursor: pointer;\n",
              "      display: none;\n",
              "      fill: #1967D2;\n",
              "      height: 32px;\n",
              "      padding: 0 0 0 0;\n",
              "      width: 32px;\n",
              "    }\n",
              "\n",
              "    .colab-df-convert:hover {\n",
              "      background-color: #E2EBFA;\n",
              "      box-shadow: 0px 1px 2px rgba(60, 64, 67, 0.3), 0px 1px 3px 1px rgba(60, 64, 67, 0.15);\n",
              "      fill: #174EA6;\n",
              "    }\n",
              "\n",
              "    .colab-df-buttons div {\n",
              "      margin-bottom: 4px;\n",
              "    }\n",
              "\n",
              "    [theme=dark] .colab-df-convert {\n",
              "      background-color: #3B4455;\n",
              "      fill: #D2E3FC;\n",
              "    }\n",
              "\n",
              "    [theme=dark] .colab-df-convert:hover {\n",
              "      background-color: #434B5C;\n",
              "      box-shadow: 0px 1px 3px 1px rgba(0, 0, 0, 0.15);\n",
              "      filter: drop-shadow(0px 1px 2px rgba(0, 0, 0, 0.3));\n",
              "      fill: #FFFFFF;\n",
              "    }\n",
              "  </style>\n",
              "\n",
              "    <script>\n",
              "      const buttonEl =\n",
              "        document.querySelector('#df-9f37c87d-297d-4ae8-a221-6ac8be021100 button.colab-df-convert');\n",
              "      buttonEl.style.display =\n",
              "        google.colab.kernel.accessAllowed ? 'block' : 'none';\n",
              "\n",
              "      async function convertToInteractive(key) {\n",
              "        const element = document.querySelector('#df-9f37c87d-297d-4ae8-a221-6ac8be021100');\n",
              "        const dataTable =\n",
              "          await google.colab.kernel.invokeFunction('convertToInteractive',\n",
              "                                                    [key], {});\n",
              "        if (!dataTable) return;\n",
              "\n",
              "        const docLinkHtml = 'Like what you see? Visit the ' +\n",
              "          '<a target=\"_blank\" href=https://colab.research.google.com/notebooks/data_table.ipynb>data table notebook</a>'\n",
              "          + ' to learn more about interactive tables.';\n",
              "        element.innerHTML = '';\n",
              "        dataTable['output_type'] = 'display_data';\n",
              "        await google.colab.output.renderOutput(dataTable, element);\n",
              "        const docLink = document.createElement('div');\n",
              "        docLink.innerHTML = docLinkHtml;\n",
              "        element.appendChild(docLink);\n",
              "      }\n",
              "    </script>\n",
              "  </div>\n",
              "\n",
              "\n",
              "<div id=\"df-da865673-bfbe-468a-82b4-3f2f3019dd2c\">\n",
              "  <button class=\"colab-df-quickchart\" onclick=\"quickchart('df-da865673-bfbe-468a-82b4-3f2f3019dd2c')\"\n",
              "            title=\"Suggest charts\"\n",
              "            style=\"display:none;\">\n",
              "\n",
              "<svg xmlns=\"http://www.w3.org/2000/svg\" height=\"24px\"viewBox=\"0 0 24 24\"\n",
              "     width=\"24px\">\n",
              "    <g>\n",
              "        <path d=\"M19 3H5c-1.1 0-2 .9-2 2v14c0 1.1.9 2 2 2h14c1.1 0 2-.9 2-2V5c0-1.1-.9-2-2-2zM9 17H7v-7h2v7zm4 0h-2V7h2v10zm4 0h-2v-4h2v4z\"/>\n",
              "    </g>\n",
              "</svg>\n",
              "  </button>\n",
              "\n",
              "<style>\n",
              "  .colab-df-quickchart {\n",
              "      --bg-color: #E8F0FE;\n",
              "      --fill-color: #1967D2;\n",
              "      --hover-bg-color: #E2EBFA;\n",
              "      --hover-fill-color: #174EA6;\n",
              "      --disabled-fill-color: #AAA;\n",
              "      --disabled-bg-color: #DDD;\n",
              "  }\n",
              "\n",
              "  [theme=dark] .colab-df-quickchart {\n",
              "      --bg-color: #3B4455;\n",
              "      --fill-color: #D2E3FC;\n",
              "      --hover-bg-color: #434B5C;\n",
              "      --hover-fill-color: #FFFFFF;\n",
              "      --disabled-bg-color: #3B4455;\n",
              "      --disabled-fill-color: #666;\n",
              "  }\n",
              "\n",
              "  .colab-df-quickchart {\n",
              "    background-color: var(--bg-color);\n",
              "    border: none;\n",
              "    border-radius: 50%;\n",
              "    cursor: pointer;\n",
              "    display: none;\n",
              "    fill: var(--fill-color);\n",
              "    height: 32px;\n",
              "    padding: 0;\n",
              "    width: 32px;\n",
              "  }\n",
              "\n",
              "  .colab-df-quickchart:hover {\n",
              "    background-color: var(--hover-bg-color);\n",
              "    box-shadow: 0 1px 2px rgba(60, 64, 67, 0.3), 0 1px 3px 1px rgba(60, 64, 67, 0.15);\n",
              "    fill: var(--button-hover-fill-color);\n",
              "  }\n",
              "\n",
              "  .colab-df-quickchart-complete:disabled,\n",
              "  .colab-df-quickchart-complete:disabled:hover {\n",
              "    background-color: var(--disabled-bg-color);\n",
              "    fill: var(--disabled-fill-color);\n",
              "    box-shadow: none;\n",
              "  }\n",
              "\n",
              "  .colab-df-spinner {\n",
              "    border: 2px solid var(--fill-color);\n",
              "    border-color: transparent;\n",
              "    border-bottom-color: var(--fill-color);\n",
              "    animation:\n",
              "      spin 1s steps(1) infinite;\n",
              "  }\n",
              "\n",
              "  @keyframes spin {\n",
              "    0% {\n",
              "      border-color: transparent;\n",
              "      border-bottom-color: var(--fill-color);\n",
              "      border-left-color: var(--fill-color);\n",
              "    }\n",
              "    20% {\n",
              "      border-color: transparent;\n",
              "      border-left-color: var(--fill-color);\n",
              "      border-top-color: var(--fill-color);\n",
              "    }\n",
              "    30% {\n",
              "      border-color: transparent;\n",
              "      border-left-color: var(--fill-color);\n",
              "      border-top-color: var(--fill-color);\n",
              "      border-right-color: var(--fill-color);\n",
              "    }\n",
              "    40% {\n",
              "      border-color: transparent;\n",
              "      border-right-color: var(--fill-color);\n",
              "      border-top-color: var(--fill-color);\n",
              "    }\n",
              "    60% {\n",
              "      border-color: transparent;\n",
              "      border-right-color: var(--fill-color);\n",
              "    }\n",
              "    80% {\n",
              "      border-color: transparent;\n",
              "      border-right-color: var(--fill-color);\n",
              "      border-bottom-color: var(--fill-color);\n",
              "    }\n",
              "    90% {\n",
              "      border-color: transparent;\n",
              "      border-bottom-color: var(--fill-color);\n",
              "    }\n",
              "  }\n",
              "</style>\n",
              "\n",
              "  <script>\n",
              "    async function quickchart(key) {\n",
              "      const quickchartButtonEl =\n",
              "        document.querySelector('#' + key + ' button');\n",
              "      quickchartButtonEl.disabled = true;  // To prevent multiple clicks.\n",
              "      quickchartButtonEl.classList.add('colab-df-spinner');\n",
              "      try {\n",
              "        const charts = await google.colab.kernel.invokeFunction(\n",
              "            'suggestCharts', [key], {});\n",
              "      } catch (error) {\n",
              "        console.error('Error during call to suggestCharts:', error);\n",
              "      }\n",
              "      quickchartButtonEl.classList.remove('colab-df-spinner');\n",
              "      quickchartButtonEl.classList.add('colab-df-quickchart-complete');\n",
              "    }\n",
              "    (() => {\n",
              "      let quickchartButtonEl =\n",
              "        document.querySelector('#df-da865673-bfbe-468a-82b4-3f2f3019dd2c button');\n",
              "      quickchartButtonEl.style.display =\n",
              "        google.colab.kernel.accessAllowed ? 'block' : 'none';\n",
              "    })();\n",
              "  </script>\n",
              "</div>\n",
              "    </div>\n",
              "  </div>\n"
            ]
          },
          "metadata": {},
          "execution_count": 10
        }
      ],
      "source": [
        "income.loc[92:99]"
      ]
    },
    {
      "cell_type": "markdown",
      "metadata": {
        "id": "5dgcOIQeOglW"
      },
      "source": [
        "## Accessing parts of a dataframe\n",
        "\n",
        "If we want to extract the actual value instead of just the whole row, we need to reference the *column* as well as the row. In pandas, columns are referenced by **column name**:"
      ]
    },
    {
      "cell_type": "code",
      "execution_count": 11,
      "metadata": {
        "id": "D9tXjsnGOglW",
        "colab": {
          "base_uri": "https://localhost:8080/"
        },
        "outputId": "556924fa-61c4-43ad-cc4f-8adb6b91658f"
      },
      "outputs": [
        {
          "output_type": "execute_result",
          "data": {
            "text/plain": [
              "Percentile Point\n",
              "1       33.50\n",
              "2       98.60\n",
              "3      128.56\n",
              "4      151.05\n",
              "5      166.32\n",
              "       ...   \n",
              "95    1075.73\n",
              "96    1174.48\n",
              "97    1302.74\n",
              "98    1523.31\n",
              "99    2090.35\n",
              "Name: Net equivalised household income in 2010-11, week, Length: 99, dtype: float64"
            ]
          },
          "metadata": {},
          "execution_count": 11
        }
      ],
      "source": [
        "income['Net equivalised household income in 2010-11, week']"
      ]
    },
    {
      "cell_type": "markdown",
      "metadata": {
        "id": "5-9Rh1x1OglZ"
      },
      "source": [
        "So, to access a particular cell, we tell Python the row and the column (this is pretty simple - the same way we tell excel to access cell \"A34\" meaning Column A, Row 34). One way we do that in pandas is to select the column, and then use .loc[] on the index."
      ]
    },
    {
      "cell_type": "code",
      "execution_count": 12,
      "metadata": {
        "id": "3e7BrLoCOglZ",
        "colab": {
          "base_uri": "https://localhost:8080/"
        },
        "outputId": "e19e1c0e-4511-438a-a5da-35e9282faca0"
      },
      "outputs": [
        {
          "output_type": "execute_result",
          "data": {
            "text/plain": [
              "845.54"
            ]
          },
          "metadata": {},
          "execution_count": 12
        }
      ],
      "source": [
        "income['Net equivalised household income in 2010-11, week'].loc[90]"
      ]
    },
    {
      "cell_type": "markdown",
      "metadata": {
        "id": "1TBCVuLQOglc"
      },
      "source": [
        "We've accessed row 90 of the column called 'Net equivalised household income in 2010-11, week'; can we access the data the other way around - can we first take the row and then specify a column? Let's try:"
      ]
    },
    {
      "cell_type": "code",
      "execution_count": 13,
      "metadata": {
        "id": "R7Ix_HYPOglc",
        "colab": {
          "base_uri": "https://localhost:8080/"
        },
        "outputId": "30bb5ba4-052d-4c7e-e749-bfe6d506d5ca"
      },
      "outputs": [
        {
          "output_type": "execute_result",
          "data": {
            "text/plain": [
              "845.54"
            ]
          },
          "metadata": {},
          "execution_count": 13
        }
      ],
      "source": [
        "income.loc[90]['Net equivalised household income in 2010-11, week']"
      ]
    },
    {
      "cell_type": "markdown",
      "metadata": {
        "id": "vrLFa4LjOgle"
      },
      "source": [
        "Yes, this seems to be working fine."
      ]
    },
    {
      "cell_type": "markdown",
      "metadata": {
        "id": "Pn1SslxTOglf"
      },
      "source": [
        "### Extension\n",
        "\n",
        "The reason for this is that selecting the column spits out a smaller dataframe, and all dataframes use  \"loc\", so we can use that. Another way to do this would be to use an explicit variable for the dataframe, along the lines of:\n",
        "\n",
        "`smallDataFrame = income['Net equivalised household income in 2010-11, week']`  \n",
        "`smallDataFrame.loc[90]`\n",
        "\n",
        "by doing income\n",
        "\n",
        "`['Net equivalised household income in 2010-11, week'].loc[90]`   \n",
        "\n",
        "we're taking the \"smallDataFrame\" object as an implicit (or hidden) output"
      ]
    },
    {
      "cell_type": "markdown",
      "metadata": {
        "id": "wZeXYNIAOglf"
      },
      "source": [
        "If we want to look at a few rows of data, we can use a range:"
      ]
    },
    {
      "cell_type": "code",
      "execution_count": 14,
      "metadata": {
        "id": "PYBoACruOglg",
        "colab": {
          "base_uri": "https://localhost:8080/"
        },
        "outputId": "d877181b-5fba-436a-aa44-941c256d6798"
      },
      "outputs": [
        {
          "output_type": "execute_result",
          "data": {
            "text/plain": [
              "Percentile Point\n",
              "88     791.33\n",
              "89     814.72\n",
              "90     845.54\n",
              "91     876.63\n",
              "92     911.29\n",
              "93     957.14\n",
              "94    1016.37\n",
              "95    1075.73\n",
              "Name: Net equivalised household income in 2010-11, week, dtype: float64"
            ]
          },
          "metadata": {},
          "execution_count": 14
        }
      ],
      "source": [
        "income['Net equivalised household income in 2010-11, week'].loc[88:95]"
      ]
    },
    {
      "cell_type": "markdown",
      "metadata": {
        "id": "ocHXwl23Oglk"
      },
      "source": [
        "So, to recap, we can now access a particular **row** using *loc[index number]*, a particular **column** with the square brackets formalism *dataframename['column name']*, or both *dataframename['column name'].loc[index number]*. We've made a start at being able to get to the bits of data we need."
      ]
    },
    {
      "cell_type": "markdown",
      "metadata": {
        "id": "SuUywdOYOgll"
      },
      "source": [
        "## Exercise:\n",
        "    \n",
        "How do the equivalised incomes of single adults and childless couples compare? Look at the 1st, 99th and 50th percentile and summarise what this tells you about the value or price of coupling."
      ]
    },
    {
      "cell_type": "code",
      "source": [
        "income['Childless couple, annual income'].loc[1]"
      ],
      "metadata": {
        "colab": {
          "base_uri": "https://localhost:8080/",
          "height": 35
        },
        "id": "e_-pp3QCeSLl",
        "outputId": "575afed3-aa07-41af-ae52-d8761f18aa9e"
      },
      "execution_count": 15,
      "outputs": [
        {
          "output_type": "execute_result",
          "data": {
            "text/plain": [
              "'1,746.92'"
            ],
            "application/vnd.google.colaboratory.intrinsic+json": {
              "type": "string"
            }
          },
          "metadata": {},
          "execution_count": 15
        }
      ]
    },
    {
      "cell_type": "code",
      "source": [
        "income['Childless couple, annual income'].loc[99]\n"
      ],
      "metadata": {
        "colab": {
          "base_uri": "https://localhost:8080/",
          "height": 35
        },
        "id": "HXqw0hzQfW0n",
        "outputId": "34fa1168-7740-469d-a7c9-d7b5c2092e92"
      },
      "execution_count": 16,
      "outputs": [
        {
          "output_type": "execute_result",
          "data": {
            "text/plain": [
              "'108,990.74'"
            ],
            "application/vnd.google.colaboratory.intrinsic+json": {
              "type": "string"
            }
          },
          "metadata": {},
          "execution_count": 16
        }
      ]
    },
    {
      "cell_type": "code",
      "source": [
        "income['Childless couple, annual income'].loc[50]\n"
      ],
      "metadata": {
        "colab": {
          "base_uri": "https://localhost:8080/",
          "height": 35
        },
        "id": "IOPH5qSEfZzg",
        "outputId": "254ce946-b189-4fe2-9b45-97df446231ea"
      },
      "execution_count": 17,
      "outputs": [
        {
          "output_type": "execute_result",
          "data": {
            "text/plain": [
              "'21,832.75'"
            ],
            "application/vnd.google.colaboratory.intrinsic+json": {
              "type": "string"
            }
          },
          "metadata": {},
          "execution_count": 17
        }
      ]
    },
    {
      "cell_type": "code",
      "source": [
        "income['Single adult'].loc[1]\n"
      ],
      "metadata": {
        "colab": {
          "base_uri": "https://localhost:8080/",
          "height": 35
        },
        "id": "ylJG2NXifaMQ",
        "outputId": "a6df44a1-62f6-4518-d38b-019260329ad6"
      },
      "execution_count": 18,
      "outputs": [
        {
          "output_type": "execute_result",
          "data": {
            "text/plain": [
              "'1,170.44'"
            ],
            "application/vnd.google.colaboratory.intrinsic+json": {
              "type": "string"
            }
          },
          "metadata": {},
          "execution_count": 18
        }
      ]
    },
    {
      "cell_type": "code",
      "source": [
        "income['Single adult'].loc[99]\n"
      ],
      "metadata": {
        "colab": {
          "base_uri": "https://localhost:8080/",
          "height": 35
        },
        "id": "eJKbCTKofagH",
        "outputId": "a0b6b9d9-a05e-4450-bad4-28c31dc61ef9"
      },
      "execution_count": 19,
      "outputs": [
        {
          "output_type": "execute_result",
          "data": {
            "text/plain": [
              "'73,023.80'"
            ],
            "application/vnd.google.colaboratory.intrinsic+json": {
              "type": "string"
            }
          },
          "metadata": {},
          "execution_count": 19
        }
      ]
    },
    {
      "cell_type": "code",
      "source": [
        "income['Single adult'].loc[50]"
      ],
      "metadata": {
        "colab": {
          "base_uri": "https://localhost:8080/",
          "height": 35
        },
        "id": "QOAh8EusfgoQ",
        "outputId": "2779ea33-65e7-4755-9260-b2f50e858f32"
      },
      "execution_count": 20,
      "outputs": [
        {
          "output_type": "execute_result",
          "data": {
            "text/plain": [
              "'14,627.95'"
            ],
            "application/vnd.google.colaboratory.intrinsic+json": {
              "type": "string"
            }
          },
          "metadata": {},
          "execution_count": 20
        }
      ]
    },
    {
      "cell_type": "markdown",
      "metadata": {
        "id": "ajwfDhieOgll"
      },
      "source": [
        "## Examining the Distribution\n",
        "\n",
        "Returning to the overall statistics, the 90% percentile earns less than half the top percentile (\"the 1%\"); if you're taking home over £800 as a household, you're in the top 10% of earners.\n",
        "\n",
        "How does\n",
        "1. The income of \"the 1%\" compare with the mean and median across the population, as a proportion?\n",
        "2. How does the 1% compare with the 90th percentile (the 10%)?\n",
        "3. How does the 10% compare with the median and mean?"
      ]
    },
    {
      "cell_type": "markdown",
      "metadata": {
        "id": "CzeYPivlOglm"
      },
      "source": [
        "The 1% earn about 60 times the poorest groups in society - and we've made other comparisons. But that's not the whole story. Let's look at the income graph.\n",
        "\n",
        "In pandas, we can plot this fairly easily..."
      ]
    },
    {
      "cell_type": "code",
      "execution_count": 21,
      "metadata": {
        "id": "y5CBXm8HOgln",
        "colab": {
          "base_uri": "https://localhost:8080/",
          "height": 662
        },
        "outputId": "ad44c150-a6cd-42a2-eaba-08cb53e97f75"
      },
      "outputs": [
        {
          "output_type": "execute_result",
          "data": {
            "text/plain": [
              "Text(0, 0.5, 'Income (Net, Equivalised) [GBP]')"
            ]
          },
          "metadata": {},
          "execution_count": 21
        },
        {
          "output_type": "display_data",
          "data": {
            "text/plain": [
              "<Figure size 1000x800 with 1 Axes>"
            ],
            "image/png": "[encoded data removed]"
          },
          "metadata": {}
        }
      ],
      "source": [
        "income['Net equivalised household income in 2010-11, week'].plot()\n",
        "plt.title('UK Net Equivalised Income by Percentile per week, 2010-11')\n",
        "plt.xlabel('Income Percentile')\n",
        "plt.ylabel('Income (Net, Equivalised) [GBP]')"
      ]
    },
    {
      "cell_type": "markdown",
      "metadata": {
        "id": "gqLmgcUaOglp"
      },
      "source": [
        "We see a curve that is pretty linear in the middle region, but curves rapidly upwards in the higher percentile and looks more like a power law."
      ]
    },
    {
      "cell_type": "markdown",
      "metadata": {
        "id": "qkC5oqwwOglp"
      },
      "source": [
        "### Exercise: Means\n",
        "\n",
        "Where does the mean appear here? Draw in a horizontal line to show the mean using **axhline**. Show the median on the same graph. What is the meaning of the median in this context?\n",
        "\n",
        "Hint: Recall that last time we used *axvline* to highlight the mean and standard deviation by drawing vertical lines on the axis. Here, we use *axhline* to draw horizontal lines."
      ]
    },
    {
      "cell_type": "code",
      "source": [
        "import pandas as pd\n",
        "import matplotlib.pyplot as plt\n",
        "\n",
        "# data_path is my document pathway\n",
        "data_path = \"./data/wk2/incomes.csv\"\n",
        "\n",
        "# use the pd.read_csv in pandas to read the data in the income dataframe we import\n",
        "income = pd.read_csv(data_path, index_col=0)\n",
        "\n",
        "# 创建 DataFrame，其实这一步可以省略\n",
        "df = pd.DataFrame(income)\n",
        "\n",
        "# 计算指定列的平均值和中位数\n",
        "column_means = df['Net equivalised household income in 2010-11, week'].mean()\n",
        "column_medians = df['Net equivalised household income in 2010-11, week'].median()\n",
        "\n",
        "# 打印结果\n",
        "print('Column Means:')\n",
        "print(column_means)\n",
        "print('Column Medians:')\n",
        "print(column_medians)\n",
        "\n",
        "# 绘制折线图\n",
        "income['Net equivalised household income in 2010-11, week'].plot()\n",
        "plt.title('UK Net Equivalised Income by Percentile per week, 2010-11')\n",
        "plt.xlabel('Income Percentile')\n",
        "plt.ylabel('Income (Net, Equivalised) [GBP]')\n",
        "\n",
        "# 添加均值和中位数的水平线\n",
        "plt.axhline(y=column_means, color='blue', linestyle='-', label='mean at y=column_means')\n",
        "plt.axhline(y=column_medians, color='green', linestyle='-', label='median at y=column_medians')\n",
        "\n",
        "print('the meaning of median in this context, it is the 50 pencentile number in the income')\n"
      ],
      "metadata": {
        "colab": {
          "base_uri": "https://localhost:8080/",
          "height": 730
        },
        "id": "aaD2LGuzRKdz",
        "outputId": "49534d88-bc3b-4c7d-c9a9-1b2c8312cc58"
      },
      "execution_count": 22,
      "outputs": [
        {
          "output_type": "stream",
          "name": "stdout",
          "text": [
            "Column Means:\n",
            "490.0385858585858\n",
            "Column Medians:\n",
            "418.73\n",
            "the meaning of median in this context, it is the 50 pencentile number in the income\n"
          ]
        },
        {
          "output_type": "display_data",
          "data": {
            "text/plain": [
              "<Figure size 1000x800 with 1 Axes>"
            ],
            "image/png": "[encoded data removed]"
          },
          "metadata": {}
        }
      ]
    },
    {
      "cell_type": "markdown",
      "metadata": {
        "id": "J7_ZodE2Oglq"
      },
      "source": [
        "### Extension: Accessing cells\n",
        "\n",
        "There are a number of ways to access elements of the dataframe: we've shown how to access columns by the [*'name of column'*] method, and rows via the .loc[*index*] method; and how we can select a range. There are also .iloc methods to select by number rather than name; you should become familiar with these on the documentation page for pandas."
      ]
    },
    {
      "cell_type": "markdown",
      "metadata": {
        "id": "KB1-kYCeOglq"
      },
      "source": [
        "## Comparing segments\n",
        "\n",
        "Earlier, we compared some summary statistics of single people and couples. Let's look at the wider curve for more than one group, now:"
      ]
    },
    {
      "cell_type": "code",
      "execution_count": 23,
      "metadata": {
        "id": "WTfrHUP6Oglr",
        "colab": {
          "base_uri": "https://localhost:8080/",
          "height": 422
        },
        "outputId": "1f889b22-d4b3-4c00-d8a2-73d894e071b9"
      },
      "outputs": [
        {
          "output_type": "error",
          "ename": "KeyError",
          "evalue": "ignored",
          "traceback": [
            "\u001b[0;31m---------------------------------------------------------------------------\u001b[0m",
            "\u001b[0;31mKeyError\u001b[0m                                  Traceback (most recent call last)",
            "\u001b[0;32m<ipython-input-23-c0be72935127>\u001b[0m in \u001b[0;36m<cell line: 12>\u001b[0;34m()\u001b[0m\n\u001b[1;32m     10\u001b[0m \u001b[0;34m\u001b[0m\u001b[0m\n\u001b[1;32m     11\u001b[0m \u001b[0;31m# 绘制 'Single_adult' 和 'Lone_parent_one_child_under_14' 列的折线图\u001b[0m\u001b[0;34m\u001b[0m\u001b[0;34m\u001b[0m\u001b[0m\n\u001b[0;32m---> 12\u001b[0;31m \u001b[0mincome\u001b[0m\u001b[0;34m[\u001b[0m\u001b[0;34m[\u001b[0m\u001b[0;34m'Single_adult'\u001b[0m\u001b[0;34m,\u001b[0m \u001b[0;34m'Lone_parent_one_child_under_14'\u001b[0m\u001b[0;34m]\u001b[0m\u001b[0;34m]\u001b[0m\u001b[0;34m.\u001b[0m\u001b[0mplot\u001b[0m\u001b[0;34m(\u001b[0m\u001b[0;34m)\u001b[0m\u001b[0;34m\u001b[0m\u001b[0;34m\u001b[0m\u001b[0m\n\u001b[0m\u001b[1;32m     13\u001b[0m \u001b[0;34m\u001b[0m\u001b[0m\n\u001b[1;32m     14\u001b[0m \u001b[0;31m# 添加标题和标签\u001b[0m\u001b[0;34m\u001b[0m\u001b[0;34m\u001b[0m\u001b[0m\n",
            "\u001b[0;32m/usr/local/lib/python3.10/dist-packages/pandas/core/frame.py\u001b[0m in \u001b[0;36m__getitem__\u001b[0;34m(self, key)\u001b[0m\n\u001b[1;32m   3811\u001b[0m             \u001b[0;32mif\u001b[0m \u001b[0mis_iterator\u001b[0m\u001b[0;34m(\u001b[0m\u001b[0mkey\u001b[0m\u001b[0;34m)\u001b[0m\u001b[0;34m:\u001b[0m\u001b[0;34m\u001b[0m\u001b[0;34m\u001b[0m\u001b[0m\n\u001b[1;32m   3812\u001b[0m                 \u001b[0mkey\u001b[0m \u001b[0;34m=\u001b[0m \u001b[0mlist\u001b[0m\u001b[0;34m(\u001b[0m\u001b[0mkey\u001b[0m\u001b[0;34m)\u001b[0m\u001b[0;34m\u001b[0m\u001b[0;34m\u001b[0m\u001b[0m\n\u001b[0;32m-> 3813\u001b[0;31m             \u001b[0mindexer\u001b[0m \u001b[0;34m=\u001b[0m \u001b[0mself\u001b[0m\u001b[0;34m.\u001b[0m\u001b[0mcolumns\u001b[0m\u001b[0;34m.\u001b[0m\u001b[0m_get_indexer_strict\u001b[0m\u001b[0;34m(\u001b[0m\u001b[0mkey\u001b[0m\u001b[0;34m,\u001b[0m \u001b[0;34m\"columns\"\u001b[0m\u001b[0;34m)\u001b[0m\u001b[0;34m[\u001b[0m\u001b[0;36m1\u001b[0m\u001b[0;34m]\u001b[0m\u001b[0;34m\u001b[0m\u001b[0;34m\u001b[0m\u001b[0m\n\u001b[0m\u001b[1;32m   3814\u001b[0m \u001b[0;34m\u001b[0m\u001b[0m\n\u001b[1;32m   3815\u001b[0m         \u001b[0;31m# take() does not accept boolean indexers\u001b[0m\u001b[0;34m\u001b[0m\u001b[0;34m\u001b[0m\u001b[0m\n",
            "\u001b[0;32m/usr/local/lib/python3.10/dist-packages/pandas/core/indexes/base.py\u001b[0m in \u001b[0;36m_get_indexer_strict\u001b[0;34m(self, key, axis_name)\u001b[0m\n\u001b[1;32m   6068\u001b[0m             \u001b[0mkeyarr\u001b[0m\u001b[0;34m,\u001b[0m \u001b[0mindexer\u001b[0m\u001b[0;34m,\u001b[0m \u001b[0mnew_indexer\u001b[0m \u001b[0;34m=\u001b[0m \u001b[0mself\u001b[0m\u001b[0;34m.\u001b[0m\u001b[0m_reindex_non_unique\u001b[0m\u001b[0;34m(\u001b[0m\u001b[0mkeyarr\u001b[0m\u001b[0;34m)\u001b[0m\u001b[0;34m\u001b[0m\u001b[0;34m\u001b[0m\u001b[0m\n\u001b[1;32m   6069\u001b[0m \u001b[0;34m\u001b[0m\u001b[0m\n\u001b[0;32m-> 6070\u001b[0;31m         \u001b[0mself\u001b[0m\u001b[0;34m.\u001b[0m\u001b[0m_raise_if_missing\u001b[0m\u001b[0;34m(\u001b[0m\u001b[0mkeyarr\u001b[0m\u001b[0;34m,\u001b[0m \u001b[0mindexer\u001b[0m\u001b[0;34m,\u001b[0m \u001b[0maxis_name\u001b[0m\u001b[0;34m)\u001b[0m\u001b[0;34m\u001b[0m\u001b[0;34m\u001b[0m\u001b[0m\n\u001b[0m\u001b[1;32m   6071\u001b[0m \u001b[0;34m\u001b[0m\u001b[0m\n\u001b[1;32m   6072\u001b[0m         \u001b[0mkeyarr\u001b[0m \u001b[0;34m=\u001b[0m \u001b[0mself\u001b[0m\u001b[0;34m.\u001b[0m\u001b[0mtake\u001b[0m\u001b[0;34m(\u001b[0m\u001b[0mindexer\u001b[0m\u001b[0;34m)\u001b[0m\u001b[0;34m\u001b[0m\u001b[0;34m\u001b[0m\u001b[0m\n",
            "\u001b[0;32m/usr/local/lib/python3.10/dist-packages/pandas/core/indexes/base.py\u001b[0m in \u001b[0;36m_raise_if_missing\u001b[0;34m(self, key, indexer, axis_name)\u001b[0m\n\u001b[1;32m   6128\u001b[0m                 \u001b[0;32mif\u001b[0m \u001b[0muse_interval_msg\u001b[0m\u001b[0;34m:\u001b[0m\u001b[0;34m\u001b[0m\u001b[0;34m\u001b[0m\u001b[0m\n\u001b[1;32m   6129\u001b[0m                     \u001b[0mkey\u001b[0m \u001b[0;34m=\u001b[0m \u001b[0mlist\u001b[0m\u001b[0;34m(\u001b[0m\u001b[0mkey\u001b[0m\u001b[0;34m)\u001b[0m\u001b[0;34m\u001b[0m\u001b[0;34m\u001b[0m\u001b[0m\n\u001b[0;32m-> 6130\u001b[0;31m                 \u001b[0;32mraise\u001b[0m \u001b[0mKeyError\u001b[0m\u001b[0;34m(\u001b[0m\u001b[0;34mf\"None of [{key}] are in the [{axis_name}]\"\u001b[0m\u001b[0;34m)\u001b[0m\u001b[0;34m\u001b[0m\u001b[0;34m\u001b[0m\u001b[0m\n\u001b[0m\u001b[1;32m   6131\u001b[0m \u001b[0;34m\u001b[0m\u001b[0m\n\u001b[1;32m   6132\u001b[0m             \u001b[0mnot_found\u001b[0m \u001b[0;34m=\u001b[0m \u001b[0mlist\u001b[0m\u001b[0;34m(\u001b[0m\u001b[0mensure_index\u001b[0m\u001b[0;34m(\u001b[0m\u001b[0mkey\u001b[0m\u001b[0;34m)\u001b[0m\u001b[0;34m[\u001b[0m\u001b[0mmissing_mask\u001b[0m\u001b[0;34m.\u001b[0m\u001b[0mnonzero\u001b[0m\u001b[0;34m(\u001b[0m\u001b[0;34m)\u001b[0m\u001b[0;34m[\u001b[0m\u001b[0;36m0\u001b[0m\u001b[0;34m]\u001b[0m\u001b[0;34m]\u001b[0m\u001b[0;34m.\u001b[0m\u001b[0munique\u001b[0m\u001b[0;34m(\u001b[0m\u001b[0;34m)\u001b[0m\u001b[0;34m)\u001b[0m\u001b[0;34m\u001b[0m\u001b[0;34m\u001b[0m\u001b[0m\n",
            "\u001b[0;31mKeyError\u001b[0m: \"None of [Index(['Single_adult', 'Lone_parent_one_child_under_14'], dtype='object')] are in the [columns]\""
          ]
        }
      ],
      "source": [
        "#This is going to throw a load of errors\n",
        "import pandas as pd\n",
        "import matplotlib.pyplot as plt\n",
        "\n",
        "# 假设 data_path 是你的文件路径\n",
        "data_path = \"./data/wk2/incomes.csv\"\n",
        "\n",
        "# 使用 pd.read_csv 读取数据，指定第一列为索引\n",
        "income = pd.read_csv(data_path, index_col=0)\n",
        "\n",
        "# 绘制 'Single_adult' 和 'Lone_parent_one_child_under_14' 列的折线图\n",
        "income[['Single_adult', 'Lone_parent_one_child_under_14']].plot()\n",
        "\n",
        "# 添加标题和标签\n",
        "plt.title('Income Comparison: Single Adult vs Lone Parent with One Child under 14')\n",
        "plt.xlabel('Income Percentile')\n",
        "plt.ylabel('Income (Net, Equivalised) [GBP]')\n",
        "\n",
        "plt.show()"
      ]
    },
    {
      "cell_type": "markdown",
      "metadata": {
        "id": "vFLPCI8hOglt"
      },
      "source": [
        "## Warning\n",
        "\n",
        "This isn't looking good. There's a load of text and no graph. If you've not seen this before, it's an error - something has gone wrong. Generally, if we look at the **final** line, it should tell us what's wrong, in this case there's \"no numeric data to plot\", which is weird, because we've seen the data and have even plotted some of it."
      ]
    },
    {
      "cell_type": "markdown",
      "metadata": {
        "id": "b83Hwg61Oglu"
      },
      "source": [
        "## Messy Data\n",
        "\n",
        "DataFrames, as we are starting to see, give us the chance to plot, chop, slice and data to help us make sense of it. Here, we will create a **new** DataFrame to take only two columns of data, and get rid of any blank cells and any cells which are not being read as numbers - normally a sign of a missing value or a non-numerical character. Why could this be happening? It could be\n",
        "\n",
        "- due to blank spaces in the text file\n",
        "\n",
        "- due to letters where there should be numbers\n",
        "\n",
        "- due to characters (\",\", \"-\", etc) that shouldn't really be there\n",
        "\n",
        "In general, there will be some detective work required to figure out what's wrong in our text file. Your best bet is sometimes to open up the data in a text editor, like I've done here:"
      ]
    },
    {
      "cell_type": "code",
      "execution_count": null,
      "metadata": {
        "id": "fLWfyIclOglu"
      },
      "outputs": [],
      "source": [
        "from IPython.display import Image\n",
        "\n",
        "data_path = \"https://s3.eu-west-2.amazonaws.com/qm2/wk2/data.png\"\n",
        "Image(data_path)"
      ]
    },
    {
      "cell_type": "markdown",
      "metadata": {
        "id": "zBz1Jv4kOglw"
      },
      "source": [
        "That's a screenshot of our datafile, opened up in a text editor. As we can see, these numbers are separated by commas and surrounded by quotation marks - this is normal, and what .csv files are supposed to look like. However, there are a lot of commas within the numbers - which makes it easier for people to read, but confuses software. Luckily, Python has a method for dealing with this - the \"replace\" method.\n",
        "\n",
        "Unfortunately, this dataframe is quite messy, so I'm going to have to extract just the columns of data I'm interested in to make it work. I'll do that by creating a new dataframe:"
      ]
    },
    {
      "cell_type": "markdown",
      "metadata": {
        "id": "JBxuM0aKOglx"
      },
      "source": [
        "## Example: Cleaning data"
      ]
    },
    {
      "cell_type": "code",
      "execution_count": null,
      "metadata": {
        "id": "lzCSbkcKOglx"
      },
      "outputs": [],
      "source": [
        "clean = income[['Childless couple, annual income','Couple, two children under 14']]\n",
        "clean.head()"
      ]
    },
    {
      "cell_type": "markdown",
      "metadata": {
        "id": "M8eg6tsDOglz"
      },
      "source": [
        "We see those pesky commas. Now we can get on with cleaning up the data:"
      ]
    },
    {
      "cell_type": "code",
      "execution_count": null,
      "metadata": {
        "id": "8YAEBL4aOgl0"
      },
      "outputs": [],
      "source": [
        "clean=clean.replace(',', '', regex=True)\n",
        "\n",
        "# In addition, missing values are sometimes written as '-', in order for Python to understand that it is just a missing numerical\n",
        "# value, all '-' need to be replaced with 'NaN'.\n",
        "clean = clean.replace('-', 'NaN', regex=True).astype('float')\n",
        "clean.head()"
      ]
    },
    {
      "cell_type": "markdown",
      "metadata": {
        "id": "5VNc0tutOgl2"
      },
      "source": [
        "**Extension**: \"**Regex**\" refers to \"**Reg**ular **Ex**pression\", which is a way of replacing and cleaning text. It's a bit beyond the scope of this class, but worth looking into if you're interested in programming more widely."
      ]
    },
    {
      "cell_type": "markdown",
      "metadata": {
        "id": "Z0dJN0OjOgl2"
      },
      "source": [
        "This seems to have done the job. We've also put a line in the code to get rid of dashes - a way that data collectors will sometimes represent missing data. Now let's plot this."
      ]
    },
    {
      "cell_type": "markdown",
      "metadata": {
        "id": "7DPJOfOnOgl2"
      },
      "source": [
        "## Asking more questions of the data\n",
        "For me, this data starts to beg further questions. How would we answer these?\n",
        "\n",
        "- If the top 20% of income shows such a sharp increase, how do we know that there isn't a similar uptick *within* the 1%? We've already seen that the mean of the dataset as a whole is much less than the half the maximum category (it's 25% of the maximum). What if that's true within the 1%, and £2,000/week as a fraction of the 0.1%, or the 0.01%?\n",
        "\n",
        "- How does this break down for gender, or educational background, or other factors like ethnicity or country of origin?\n",
        "\n",
        "- Which parts of the income curve show greater gaps between these subgroups and what might it say about the underlying causal mechanisms?\n"
      ]
    },
    {
      "cell_type": "code",
      "execution_count": null,
      "metadata": {
        "id": "GPSVukHaOgl3"
      },
      "outputs": [],
      "source": [
        "clean.plot()\n",
        "plt.title('A Modest Proposal: The fiscal benefits of childbirth')\n",
        "plt.xlabel('Percentile')\n",
        "plt.ylabel('Income Per Week [GBP]')"
      ]
    },
    {
      "cell_type": "markdown",
      "metadata": {
        "id": "4TFQznjUOgl5"
      },
      "source": [
        "## Exercise:\n",
        "\n",
        "Previously, we'd examined income gaps between single people and couples (how very romantic). Repeat the above exercise (cleaning and plotting income data) for the columns we used above for single people and childless couples. Reflect and comment on the differences."
      ]
    },
    {
      "cell_type": "code",
      "execution_count": null,
      "metadata": {
        "id": "hGlvHC7iOgl5"
      },
      "outputs": [],
      "source": [
        "print(\"Enter your code here\")"
      ]
    },
    {
      "cell_type": "code",
      "execution_count": null,
      "metadata": {
        "id": "XtbGVYEkOgl8"
      },
      "outputs": [],
      "source": [
        "Add your reflection here."
      ]
    },
    {
      "cell_type": "markdown",
      "metadata": {
        "id": "V9fRF22DOgl-"
      },
      "source": [
        "So far, we've dealt with selecting data in a particular row of column by index or label. What if we now want to filter the data by *value*? For example, let's say I want to see the data for all Childless couples who earn more than 50,000 (net equivalised) pounds every year. This looks like:"
      ]
    },
    {
      "cell_type": "code",
      "execution_count": null,
      "metadata": {
        "id": "aa1kaQwROgl_"
      },
      "outputs": [],
      "source": [
        "clean = income[['Childless couple, annual income','Couple, two children under 14']]\n",
        "clean = clean.replace(',', '', regex=True)\n",
        "clean = clean.replace('-', 'NaN', regex=True).astype('float')\n",
        "clean[clean['Childless couple, annual income']>50000]"
      ]
    },
    {
      "cell_type": "markdown",
      "metadata": {
        "id": "li_efWEHOgmA"
      },
      "source": [
        "The key line of code for selection is:\n",
        "\n",
        "```python\n",
        "clean[clean['Childless couple, annual income']>50000]\n",
        "```\n",
        "\n",
        "Let's break this down: we're used to using *dataframe*[*some selection*] from earlier. Here \"some selection\" is\n",
        "\n",
        "\n",
        "```python\n",
        "clean['Childless couple, annual income']>50000\n",
        "```\n",
        "\n",
        "In other words, this command is returning a set of indices where that statement is true. We can see this explicitly:"
      ]
    },
    {
      "cell_type": "code",
      "execution_count": null,
      "metadata": {
        "id": "0DDpwa5wOgmB"
      },
      "outputs": [],
      "source": [
        "clean['Childless couple, annual income']>50000"
      ]
    },
    {
      "cell_type": "markdown",
      "metadata": {
        "id": "voVyBM4dOgmD"
      },
      "source": [
        "So python is picking the values where this statement is true - i.e. where the 'Childless couple...' column has values greater than 50000. Then this selection is passed to the dataframe, and the dataframe shows the correct rows."
      ]
    },
    {
      "cell_type": "markdown",
      "metadata": {
        "id": "q6E0bA_1OgmD"
      },
      "source": [
        "We won't dwell on comparative operative, here we've used \">\" to mean \"is greater than\"; you can also use:\n",
        "\n",
        "- == to mean 'is equal to' [why the double equals?]\n",
        "- <> or != to mean 'is not equal to'\n",
        "- < to mean 'is less than'\n",
        "- the symbol >= to mean 'is greater than or equal to'\n",
        "- <= to mean 'is less than or equal to'\n"
      ]
    },
    {
      "cell_type": "markdown",
      "metadata": {
        "id": "jlUpSnksOgmE"
      },
      "source": [
        "## Exercise\n",
        "On an approporiately labelled graph, plot the incomes of all single adults whose net equivalised income is less than or equal to £10,000. What proportion of the population is this?"
      ]
    },
    {
      "cell_type": "code",
      "execution_count": null,
      "metadata": {
        "id": "Bg_cvi27OgmE"
      },
      "outputs": [],
      "source": []
    },
    {
      "cell_type": "markdown",
      "metadata": {
        "id": "zfP2pamEeyut"
      },
      "source": [
        "# Extension: Web Scraping\n",
        "\n",
        "In this example, we've been working with a .csv file that contains all the data we want. That's not always the case. Let's say we're interested in getting the data from a table on a website. Websites are built using HTML code, so what we need to figure out how to look inside the website's code and pull out the data we want. Luckily, pandas has a built in function that can automatically recognize HTML tables in websites and turn them into dataframes.\n",
        "\n",
        "Let's start with the [Netflix Top 10](https://top10.netflix.com/) website. Click on the link and have a look around. You'll notice two tables: the first showing the top 10 films this week, and the second (farther down) showing the most popular filsms based on their first 28 days on netflix.\n",
        "\n",
        "We can download both of these tables into python using one pandas function: read_html"
      ]
    },
    {
      "cell_type": "code",
      "execution_count": null,
      "metadata": {
        "id": "CuTNepONeyut"
      },
      "outputs": [],
      "source": [
        "url='https://top10.netflix.com/'\n",
        "\n",
        "tables=pandas.read_html(url)\n",
        "\n",
        "print(tables)"
      ]
    },
    {
      "cell_type": "markdown",
      "metadata": {
        "id": "08XUCOqEeyuu"
      },
      "source": [
        "When we print the results of what was scraped, it's pretty ugly. One of the reasons is that the `tables` variable is actually a *list* of dataframes. Because there were two tables on our website, `read_html` has returned both of those tables and put them in a list. let's save the first table as a new dataframe called `top10` and have a closer look."
      ]
    },
    {
      "cell_type": "code",
      "execution_count": null,
      "metadata": {
        "id": "rrzlV-dTeyuu"
      },
      "outputs": [],
      "source": [
        "top10=tables[0]\n",
        "top10"
      ]
    },
    {
      "cell_type": "markdown",
      "metadata": {
        "id": "DRDcS1c0eyuu"
      },
      "source": [
        "This looks more like the dataframes we were looking at earlier. There's a big chunk of text (this is HTML code, the language websites are built with) where the name of the second column should be. `read_html` is usually pretty smart, and can actually read the column names from the tables on the website. It seems to have gotten confused for this one column. If we print the columns from the  We can rename that column using the `rename` function. Since we know it's the second column, we can select it with `top10.columns[1]`"
      ]
    },
    {
      "cell_type": "code",
      "execution_count": null,
      "metadata": {
        "id": "iZGj8HB3eyuv"
      },
      "outputs": [],
      "source": [
        "top10.rename(columns={top10.columns[1]: \"Title\" }, inplace = True)\n",
        "top10"
      ]
    },
    {
      "cell_type": "markdown",
      "metadata": {
        "id": "oECTeSZ3eyuv"
      },
      "source": [
        "And there we have it; a nicely formatted dataframe ready for analysis, straight from a website.\n",
        "\n",
        "\n",
        "# Assessed Question\n",
        "\n",
        "Using the following URL https://en.wikipedia.org/wiki/List_of_Nobel_laureates_in_Chemistry create a plot of the top 10 countries in terms of nobel laureates. First, follow the steps below:"
      ]
    },
    {
      "cell_type": "code",
      "execution_count": 27,
      "metadata": {
        "colab": {
          "base_uri": "https://localhost:8080/"
        },
        "id": "2U-PdaFfeyuv",
        "outputId": "e9dff053-ab46-4b8f-f0ae-56ea93ebd2df"
      },
      "outputs": [
        {
          "output_type": "stream",
          "name": "stdout",
          "text": [
            "[     Year Image                               Laureate[A]      Country[B]  \\\n",
            "0    1901   NaN  Jacobus Henricus van 't Hoff (1852–1911)     Netherlands   \n",
            "1    1902   NaN          Hermann Emil Fischer (1852–1919)         Germany   \n",
            "2    1903   NaN       Svante August Arrhenius (1859–1927)          Sweden   \n",
            "3    1904   NaN            Sir William Ramsay (1852–1916)  United Kingdom   \n",
            "4    1905   NaN              Adolf von Baeyer (1835–1917)         Germany   \n",
            "..    ...   ...                                       ...             ...   \n",
            "197  2022   NaN                   Morten Meldal (b. 1954)         Denmark   \n",
            "198  2022   NaN              K. Barry Sharpless (b. 1941)   United States   \n",
            "199  2023   NaN               Moungi G. Bawendi (b. 1961)   United States   \n",
            "200  2023   NaN                   Louis E. Brus (b. 1943)   United States   \n",
            "201  2023   NaN                   Alexey Ekimov (b. 1945)          Russia   \n",
            "\n",
            "                                          Rationale[C]    Ref  \n",
            "0    \"[for his] discovery of the laws of chemical d...   [18]  \n",
            "1       \"[for] his work on sugar and purine syntheses\"   [19]  \n",
            "2      \"[for] his electrolytic theory of dissociation\"   [20]  \n",
            "3    \"[for his] discovery of the inert gaseous elem...   [21]  \n",
            "4    \"[for] the advancement of organic chemistry an...   [22]  \n",
            "..                                                 ...    ...  \n",
            "197  \"for the development of click chemistry and bi...  [126]  \n",
            "198  \"for the development of click chemistry and bi...  [126]  \n",
            "199  \"for the discovery and synthesis of quantum dots\"  [127]  \n",
            "200  \"for the discovery and synthesis of quantum dots\"  [127]  \n",
            "201  \"for the discovery and synthesis of quantum dots\"  [127]  \n",
            "\n",
            "[202 rows x 6 columns],   .mw-parser-output .navbar{display:inline;font-size:88%;font-weight:normal}.mw-parser-output .navbar-collapse{float:left;text-align:left}.mw-parser-output .navbar-boxtext{word-spacing:0}.mw-parser-output .navbar ul{display:inline-block;white-space:nowrap;line-height:inherit}.mw-parser-output .navbar-brackets::before{margin-right:-0.125em;content:\"[ \"}.mw-parser-output .navbar-brackets::after{margin-left:-0.125em;content:\" ]\"}.mw-parser-output .navbar li{word-spacing:-0.125em}.mw-parser-output .navbar a>span,.mw-parser-output .navbar a>abbr{text-decoration:inherit}.mw-parser-output .navbar-mini abbr{font-variant:small-caps;border-bottom:none;text-decoration:none;cursor:inherit}.mw-parser-output .navbar-ct-full{font-size:114%;margin:0 7em}.mw-parser-output .navbar-ct-mini{font-size:114%;margin:0 4em}vteLaureates of the Nobel Prize in Chemistry  \\\n",
            "0                                          1901–1925                                                                                                                                                                                                                                                                                                                                                                                                                                                                                                                                                                                                                                                                                                                                                                                                                                     \n",
            "1                                          1926–1950                                                                                                                                                                                                                                                                                                                                                                                                                                                                                                                                                                                                                                                                                                                                                                                                                                     \n",
            "2                                          1951–1975                                                                                                                                                                                                                                                                                                                                                                                                                                                                                                                                                                                                                                                                                                                                                                                                                                     \n",
            "3                                          1976–2000                                                                                                                                                                                                                                                                                                                                                                                                                                                                                                                                                                                                                                                                                                                                                                                                                                     \n",
            "4                                       2001–present                                                                                                                                                                                                                                                                                                                                                                                                                                                                                                                                                                                                                                                                                                                                                                                                                                     \n",
            "\n",
            "  .mw-parser-output .navbar{display:inline;font-size:88%;font-weight:normal}.mw-parser-output .navbar-collapse{float:left;text-align:left}.mw-parser-output .navbar-boxtext{word-spacing:0}.mw-parser-output .navbar ul{display:inline-block;white-space:nowrap;line-height:inherit}.mw-parser-output .navbar-brackets::before{margin-right:-0.125em;content:\"[ \"}.mw-parser-output .navbar-brackets::after{margin-left:-0.125em;content:\" ]\"}.mw-parser-output .navbar li{word-spacing:-0.125em}.mw-parser-output .navbar a>span,.mw-parser-output .navbar a>abbr{text-decoration:inherit}.mw-parser-output .navbar-mini abbr{font-variant:small-caps;border-bottom:none;text-decoration:none;cursor:inherit}.mw-parser-output .navbar-ct-full{font-size:114%;margin:0 7em}.mw-parser-output .navbar-ct-mini{font-size:114%;margin:0 4em}vteLaureates of the Nobel Prize in Chemistry.1  \\\n",
            "0  1901: Jacobus van 't Hoff 1902: Emil Fischer 1...                                                                                                                                                                                                                                                                                                                                                                                                                                                                                                                                                                                                                                                                                                                                                                                                                                       \n",
            "1  1926: Theodor Svedberg 1927: Heinrich Wieland ...                                                                                                                                                                                                                                                                                                                                                                                                                                                                                                                                                                                                                                                                                                                                                                                                                                       \n",
            "2  1951: Edwin McMillan / Glenn T. Seaborg 1952: ...                                                                                                                                                                                                                                                                                                                                                                                                                                                                                                                                                                                                                                                                                                                                                                                                                                       \n",
            "3  1976: William Lipscomb 1977: Ilya Prigogine 19...                                                                                                                                                                                                                                                                                                                                                                                                                                                                                                                                                                                                                                                                                                                                                                                                                                       \n",
            "4  2001: William Knowles / Ryoji Noyori / K. Barr...                                                                                                                                                                                                                                                                                                                                                                                                                                                                                                                                                                                                                                                                                                                                                                                                                                       \n",
            "\n",
            "   .mw-parser-output .navbar{display:inline;font-size:88%;font-weight:normal}.mw-parser-output .navbar-collapse{float:left;text-align:left}.mw-parser-output .navbar-boxtext{word-spacing:0}.mw-parser-output .navbar ul{display:inline-block;white-space:nowrap;line-height:inherit}.mw-parser-output .navbar-brackets::before{margin-right:-0.125em;content:\"[ \"}.mw-parser-output .navbar-brackets::after{margin-left:-0.125em;content:\" ]\"}.mw-parser-output .navbar li{word-spacing:-0.125em}.mw-parser-output .navbar a>span,.mw-parser-output .navbar a>abbr{text-decoration:inherit}.mw-parser-output .navbar-mini abbr{font-variant:small-caps;border-bottom:none;text-decoration:none;cursor:inherit}.mw-parser-output .navbar-ct-full{font-size:114%;margin:0 7em}.mw-parser-output .navbar-ct-mini{font-size:114%;margin:0 4em}vteLaureates of the Nobel Prize in Chemistry.2  \n",
            "0                                                NaN                                                                                                                                                                                                                                                                                                                                                                                                                                                                                                                                                                                                                                                                                                                                                                                                                                       \n",
            "1                                                NaN                                                                                                                                                                                                                                                                                                                                                                                                                                                                                                                                                                                                                                                                                                                                                                                                                                       \n",
            "2                                                NaN                                                                                                                                                                                                                                                                                                                                                                                                                                                                                                                                                                                                                                                                                                                                                                                                                                       \n",
            "3                                                NaN                                                                                                                                                                                                                                                                                                                                                                                                                                                                                                                                                                                                                                                                                                                                                                                                                                       \n",
            "4                                                NaN                                                                                                                                                                                                                                                                                                                                                                                                                                                                                                                                                                                                                                                                                                                                                                                                                                       ,                                       vteNobel Prizes  \\\n",
            "0          Lists of Nobel laureates Nobel Prize medal   \n",
            "1                                              Prizes   \n",
            "2                                           Laureates   \n",
            "3                                          by subject   \n",
            "4                                 by population group   \n",
            "5                        by continent and nationality   \n",
            "6                                       by university   \n",
            "7                                            Nominees   \n",
            "8                                          by subject   \n",
            "9                                           by groups   \n",
            "10                                       by Clarivate   \n",
            "11                                      Organisations   \n",
            "12                                            Related   \n",
            "13  1 Nobel Memorial Prize (not one of the origina...   \n",
            "\n",
            "                                    vteNobel Prizes.1  \\\n",
            "0          Lists of Nobel laureates Nobel Prize medal   \n",
            "1   Chemistry Economics1 Literature Peace Physics ...   \n",
            "2   by occupation Heads of state and government by...   \n",
            "3   Chemistry Economics1 Literature Peace Physics ...   \n",
            "4   Bengali Black Christian Female Jewish Latin Am...   \n",
            "5   African Egyptian South African Asian Chinese F...   \n",
            "6   City University of New York Columbia Universit...   \n",
            "7   Female Nominators Couples Clergy Catholic by s...   \n",
            "8   Chemistry Economics1 Literature Peace Individu...   \n",
            "9   Peace AFSC Nobel nominees PRIO Director's Shor...   \n",
            "10  Female Chemistry Economics1 Physics Physiology...   \n",
            "11  Nobel Foundation Nobel Committees Chemistry Ec...   \n",
            "12  Controversies Alfred Nobel Björkborn Manor Nob...   \n",
            "13  1 Nobel Memorial Prize (not one of the origina...   \n",
            "\n",
            "                                    vteNobel Prizes.2  \n",
            "0          Lists of Nobel laureates Nobel Prize medal  \n",
            "1                                                 NaN  \n",
            "2                                                 NaN  \n",
            "3                                                 NaN  \n",
            "4                                                 NaN  \n",
            "5                                                 NaN  \n",
            "6                                                 NaN  \n",
            "7                                                 NaN  \n",
            "8                                                 NaN  \n",
            "9                                                 NaN  \n",
            "10                                                NaN  \n",
            "11                                                NaN  \n",
            "12                                                NaN  \n",
            "13  1 Nobel Memorial Prize (not one of the origina...  ,                               0  \\\n",
            "0                    by subject   \n",
            "1           by population group   \n",
            "2  by continent and nationality   \n",
            "3                 by university   \n",
            "\n",
            "                                                   1  \n",
            "0  Chemistry Economics1 Literature Peace Physics ...  \n",
            "1  Bengali Black Christian Female Jewish Latin Am...  \n",
            "2  African Egyptian South African Asian Chinese F...  \n",
            "3  City University of New York Columbia Universit...  ,                               0  \\\n",
            "0  by continent and nationality   \n",
            "\n",
            "                                                   1  \n",
            "0  African Egyptian South African Asian Chinese F...  ,             0                                                  1\n",
            "0  by subject  Chemistry Economics1 Literature Peace Individu...,               0                                                  1\n",
            "0     by groups  Peace AFSC Nobel nominees PRIO Director's Shor...\n",
            "1  by Clarivate  Female Chemistry Economics1 Physics Physiology...,               0                                                  1\n",
            "0  by Clarivate  Female Chemistry Economics1 Physics Physiology...]\n"
          ]
        }
      ],
      "source": [
        "# scrape the table of Nobel Laureates in Chemistry using read_html. remember, this gives us a LIST of dataframes! lets call this list chem_tables\n",
        "import pandas as pd\n",
        "\n",
        "# URL of the Wikipedia page for Nobel Laureates in Chemistry\n",
        "url = \"https://en.wikipedia.org/wiki/List_of_Nobel_laureates_in_Chemistry\"\n",
        "\n",
        "# Use read_html to scrape tables from the URL\n",
        "tables = pd.read_html(url)\n",
        "\n",
        "print(tables)\n",
        "\n"
      ]
    },
    {
      "cell_type": "markdown",
      "metadata": {
        "id": "4ZtnksP_eyuv"
      },
      "source": [
        "I'll help you out with this next bit. We'll be using the `groupby` function in pandas to group our dataframe such that each row is a country (rather than a person, as it currently is). We do this by using `<dataframe>.groupby('<column name>')`. Since we're aggregating, we need to tell python how we want it to aggregate our values. In this case, we just want to count the number of rows for each country; we can do this using `.size()`. You can use many different aggregation functions, e.g. `.mean()` if you wanted to calculate the average of a specific column."
      ]
    },
    {
      "cell_type": "code",
      "execution_count": 33,
      "metadata": {
        "colab": {
          "base_uri": "https://localhost:8080/",
          "height": 405
        },
        "id": "L2qbJL-3eyuw",
        "outputId": "56d63177-49bb-4bf0-939c-0bb1d07a4ddc"
      },
      "outputs": [
        {
          "output_type": "error",
          "ename": "KeyError",
          "evalue": "ignored",
          "traceback": [
            "\u001b[0;31m---------------------------------------------------------------------------\u001b[0m",
            "\u001b[0;31mKeyError\u001b[0m                                  Traceback (most recent call last)",
            "\u001b[0;32m<ipython-input-33-fd4ab0ee3332>\u001b[0m in \u001b[0;36m<cell line: 14>\u001b[0;34m()\u001b[0m\n\u001b[1;32m     12\u001b[0m \u001b[0;34m\u001b[0m\u001b[0m\n\u001b[1;32m     13\u001b[0m \u001b[0;31m# Step 3: Group by \"Country[B]\" and count the number of Nobel laureates\u001b[0m\u001b[0;34m\u001b[0m\u001b[0;34m\u001b[0m\u001b[0m\n\u001b[0;32m---> 14\u001b[0;31m \u001b[0mgrouped_df\u001b[0m \u001b[0;34m=\u001b[0m \u001b[0mdf\u001b[0m\u001b[0;34m.\u001b[0m\u001b[0mgroupby\u001b[0m\u001b[0;34m(\u001b[0m\u001b[0;34m'Country[B]'\u001b[0m\u001b[0;34m)\u001b[0m\u001b[0;34m.\u001b[0m\u001b[0msize\u001b[0m\u001b[0;34m(\u001b[0m\u001b[0;34m)\u001b[0m\u001b[0;34m.\u001b[0m\u001b[0mreset_index\u001b[0m\u001b[0;34m(\u001b[0m\u001b[0mname\u001b[0m\u001b[0;34m=\u001b[0m\u001b[0;34m'NobelCount'\u001b[0m\u001b[0;34m)\u001b[0m\u001b[0;34m\u001b[0m\u001b[0;34m\u001b[0m\u001b[0m\n\u001b[0m\u001b[1;32m     15\u001b[0m \u001b[0;34m\u001b[0m\u001b[0m\n\u001b[1;32m     16\u001b[0m \u001b[0;31m# Step 4: Sort the DataFrame to get the top 10 countries\u001b[0m\u001b[0;34m\u001b[0m\u001b[0;34m\u001b[0m\u001b[0m\n",
            "\u001b[0;32m/usr/local/lib/python3.10/dist-packages/pandas/core/frame.py\u001b[0m in \u001b[0;36mgroupby\u001b[0;34m(self, by, axis, level, as_index, sort, group_keys, squeeze, observed, dropna)\u001b[0m\n\u001b[1;32m   8400\u001b[0m         \u001b[0maxis\u001b[0m \u001b[0;34m=\u001b[0m \u001b[0mself\u001b[0m\u001b[0;34m.\u001b[0m\u001b[0m_get_axis_number\u001b[0m\u001b[0;34m(\u001b[0m\u001b[0maxis\u001b[0m\u001b[0;34m)\u001b[0m\u001b[0;34m\u001b[0m\u001b[0;34m\u001b[0m\u001b[0m\n\u001b[1;32m   8401\u001b[0m \u001b[0;34m\u001b[0m\u001b[0m\n\u001b[0;32m-> 8402\u001b[0;31m         return DataFrameGroupBy(\n\u001b[0m\u001b[1;32m   8403\u001b[0m             \u001b[0mobj\u001b[0m\u001b[0;34m=\u001b[0m\u001b[0mself\u001b[0m\u001b[0;34m,\u001b[0m\u001b[0;34m\u001b[0m\u001b[0;34m\u001b[0m\u001b[0m\n\u001b[1;32m   8404\u001b[0m             \u001b[0mkeys\u001b[0m\u001b[0;34m=\u001b[0m\u001b[0mby\u001b[0m\u001b[0;34m,\u001b[0m\u001b[0;34m\u001b[0m\u001b[0;34m\u001b[0m\u001b[0m\n",
            "\u001b[0;32m/usr/local/lib/python3.10/dist-packages/pandas/core/groupby/groupby.py\u001b[0m in \u001b[0;36m__init__\u001b[0;34m(self, obj, keys, axis, level, grouper, exclusions, selection, as_index, sort, group_keys, squeeze, observed, mutated, dropna)\u001b[0m\n\u001b[1;32m    963\u001b[0m             \u001b[0;32mfrom\u001b[0m \u001b[0mpandas\u001b[0m\u001b[0;34m.\u001b[0m\u001b[0mcore\u001b[0m\u001b[0;34m.\u001b[0m\u001b[0mgroupby\u001b[0m\u001b[0;34m.\u001b[0m\u001b[0mgrouper\u001b[0m \u001b[0;32mimport\u001b[0m \u001b[0mget_grouper\u001b[0m\u001b[0;34m\u001b[0m\u001b[0;34m\u001b[0m\u001b[0m\n\u001b[1;32m    964\u001b[0m \u001b[0;34m\u001b[0m\u001b[0m\n\u001b[0;32m--> 965\u001b[0;31m             grouper, exclusions, obj = get_grouper(\n\u001b[0m\u001b[1;32m    966\u001b[0m                 \u001b[0mobj\u001b[0m\u001b[0;34m,\u001b[0m\u001b[0;34m\u001b[0m\u001b[0;34m\u001b[0m\u001b[0m\n\u001b[1;32m    967\u001b[0m                 \u001b[0mkeys\u001b[0m\u001b[0;34m,\u001b[0m\u001b[0;34m\u001b[0m\u001b[0;34m\u001b[0m\u001b[0m\n",
            "\u001b[0;32m/usr/local/lib/python3.10/dist-packages/pandas/core/groupby/grouper.py\u001b[0m in \u001b[0;36mget_grouper\u001b[0;34m(obj, key, axis, level, sort, observed, mutated, validate, dropna)\u001b[0m\n\u001b[1;32m    886\u001b[0m                 \u001b[0min_axis\u001b[0m\u001b[0;34m,\u001b[0m \u001b[0mlevel\u001b[0m\u001b[0;34m,\u001b[0m \u001b[0mgpr\u001b[0m \u001b[0;34m=\u001b[0m \u001b[0;32mFalse\u001b[0m\u001b[0;34m,\u001b[0m \u001b[0mgpr\u001b[0m\u001b[0;34m,\u001b[0m \u001b[0;32mNone\u001b[0m\u001b[0;34m\u001b[0m\u001b[0;34m\u001b[0m\u001b[0m\n\u001b[1;32m    887\u001b[0m             \u001b[0;32melse\u001b[0m\u001b[0;34m:\u001b[0m\u001b[0;34m\u001b[0m\u001b[0;34m\u001b[0m\u001b[0m\n\u001b[0;32m--> 888\u001b[0;31m                 \u001b[0;32mraise\u001b[0m \u001b[0mKeyError\u001b[0m\u001b[0;34m(\u001b[0m\u001b[0mgpr\u001b[0m\u001b[0;34m)\u001b[0m\u001b[0;34m\u001b[0m\u001b[0;34m\u001b[0m\u001b[0m\n\u001b[0m\u001b[1;32m    889\u001b[0m         \u001b[0;32melif\u001b[0m \u001b[0misinstance\u001b[0m\u001b[0;34m(\u001b[0m\u001b[0mgpr\u001b[0m\u001b[0;34m,\u001b[0m \u001b[0mGrouper\u001b[0m\u001b[0;34m)\u001b[0m \u001b[0;32mand\u001b[0m \u001b[0mgpr\u001b[0m\u001b[0;34m.\u001b[0m\u001b[0mkey\u001b[0m \u001b[0;32mis\u001b[0m \u001b[0;32mnot\u001b[0m \u001b[0;32mNone\u001b[0m\u001b[0;34m:\u001b[0m\u001b[0;34m\u001b[0m\u001b[0;34m\u001b[0m\u001b[0m\n\u001b[1;32m    890\u001b[0m             \u001b[0;31m# Add key to exclusions\u001b[0m\u001b[0;34m\u001b[0m\u001b[0;34m\u001b[0m\u001b[0m\n",
            "\u001b[0;31mKeyError\u001b[0m: 'Country[B]'"
          ]
        }
      ],
      "source": [
        "\n"
      ]
    },
    {
      "cell_type": "markdown",
      "metadata": {
        "id": "E1CZYKtLeyuw"
      },
      "source": [
        "*QUESTION: What country has the fourth most nobel prizes in chemistry?*"
      ]
    }
  ],
  "metadata": {
    "colab": {
      "name": "W2. Working with Data in Pandas.ipynb",
      "provenance": [],
      "include_colab_link": true
    },
    "kernelspec": {
      "display_name": "Python 3.9.7 ('geo')",
      "language": "python",
      "name": "python3"
    },
    "language_info": {
      "codemirror_mode": {
        "name": "ipython",
        "version": 3
      },
      "file_extension": ".py",
      "mimetype": "text/x-python",
      "name": "python",
      "nbconvert_exporter": "python",
      "pygments_lexer": "ipython3",
      "version": "3.9.7"
    },
    "vscode": {
      "interpreter": {
        "hash": "8ee0682e3aec3eb14c273afe4405335ee3a64a018407db16d950813fa3a05036"
      }
    }
  },
  "nbformat": 4,
  "nbformat_minor": 0
}